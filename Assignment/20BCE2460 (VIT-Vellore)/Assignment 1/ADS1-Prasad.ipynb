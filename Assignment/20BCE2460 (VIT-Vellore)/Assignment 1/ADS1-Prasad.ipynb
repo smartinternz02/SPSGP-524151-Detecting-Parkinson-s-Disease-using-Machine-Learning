{
 "cells": [
  {
   "cell_type": "code",
   "execution_count": 1,
   "id": "092d77d5",
   "metadata": {},
   "outputs": [],
   "source": [
    "#Assignment 1"
   ]
  },
  {
   "cell_type": "code",
   "execution_count": 30,
   "id": "9168983d",
   "metadata": {},
   "outputs": [
    {
     "name": "stdout",
     "output_type": "stream",
     "text": [
      "Prasad\n",
      "21\n"
     ]
    }
   ],
   "source": [
    "#Q1\n",
    "\n",
    "name = \"Prasad\"\n",
    "age = 21\n",
    "print(name)\n",
    "print(age)"
   ]
  },
  {
   "cell_type": "code",
   "execution_count": 31,
   "id": "b7a6e56e",
   "metadata": {},
   "outputs": [
    {
     "name": "stdout",
     "output_type": "stream",
     "text": [
      "['Datascience', 'is', 'used', 'to', 'extract', 'meaningful', 'insights.']\n"
     ]
    }
   ],
   "source": [
    "#Q2\n",
    "\n",
    "X = \"Datascience is used to extract meaningful insights.\"\n",
    "splt = X.split()\n",
    "print(splt)"
   ]
  },
  {
   "cell_type": "code",
   "execution_count": 32,
   "id": "85d9f052",
   "metadata": {},
   "outputs": [
    {
     "name": "stdout",
     "output_type": "stream",
     "text": [
      "6\n"
     ]
    }
   ],
   "source": [
    "#Q3\n",
    "\n",
    "def mul(x, y):\n",
    "    return x*y\n",
    "\n",
    "print(mul(3, 2))"
   ]
  },
  {
   "cell_type": "code",
   "execution_count": 33,
   "id": "7ba54dcd",
   "metadata": {},
   "outputs": [
    {
     "name": "stdout",
     "output_type": "stream",
     "text": [
      "dict_keys(['Tamil Nadu', 'Punjab', 'Telengana', 'West Bengal', 'Maharashtra'])\n",
      "dict_values(['Chennai', 'Chandigarh', 'Hyderabad', 'Kolkata', 'Mumbai'])\n"
     ]
    }
   ],
   "source": [
    "#Q4\n",
    "\n",
    "dict = {\"Tamil Nadu\":\"Chennai\", \"Punjab\":\"Chandigarh\", \n",
    "        \"Telengana\":\"Hyderabad\", \"West Bengal\":\"Kolkata\", \n",
    "       \"Maharashtra\":\"Mumbai\"}\n",
    "print(dict.keys())\n",
    "print(dict.values())"
   ]
  },
  {
   "cell_type": "code",
   "execution_count": 34,
   "id": "4f2e1fc3",
   "metadata": {},
   "outputs": [],
   "source": [
    "#Q5\n",
    "\n",
    "x = range(1000)"
   ]
  },
  {
   "cell_type": "code",
   "execution_count": 35,
   "id": "c3f6d194",
   "metadata": {},
   "outputs": [
    {
     "name": "stdout",
     "output_type": "stream",
     "text": [
      "[[1, 0, 0, 0], [0, 1, 0, 0], [0, 0, 1, 0], [0, 0, 0, 1]]\n"
     ]
    }
   ],
   "source": [
    "#Q6\n",
    "\n",
    "identity_matrix = [[1,0,0,0],[0,1,0,0],[0,0,1,0],[0,0,0,1]]\n",
    "print(identity_matrix)"
   ]
  },
  {
   "cell_type": "code",
   "execution_count": 36,
   "id": "388be6ff",
   "metadata": {},
   "outputs": [
    {
     "name": "stdout",
     "output_type": "stream",
     "text": [
      "[[1, 2, 3], [4, 5, 6], [7, 8, 9]]\n"
     ]
    }
   ],
   "source": [
    "#Q7\n",
    "\n",
    "mat = [[1,2,3],[4,5,6],[7,8,9]]\n",
    "print(mat)"
   ]
  },
  {
   "cell_type": "code",
   "execution_count": 37,
   "id": "48a3d7df",
   "metadata": {},
   "outputs": [
    {
     "name": "stdout",
     "output_type": "stream",
     "text": [
      "[[7, 4, 4], [9, 11, 9]]\n"
     ]
    }
   ],
   "source": [
    "#Q8\n",
    "\n",
    "m1 = [[1,2,3],[4,5,6]]\n",
    "m2 = [[6,2,1],[5,6,3]]\n",
    "result = [[0,0,0],[0,0,0]]\n",
    "for i in range(len(m1)):\n",
    "    for j in range(len(m1[i])):\n",
    "        result[i][j] = m1[i][j] + m2[i][j]\n",
    "        \n",
    "print(result)"
   ]
  },
  {
   "cell_type": "code",
   "execution_count": 38,
   "id": "d308e922",
   "metadata": {},
   "outputs": [
    {
     "name": "stdout",
     "output_type": "stream",
     "text": [
      "2023-02-01\n",
      "2023-02-02\n",
      "2023-02-03\n",
      "2023-02-04\n",
      "2023-02-05\n",
      "2023-02-06\n",
      "2023-02-07\n",
      "2023-02-08\n",
      "2023-02-09\n",
      "2023-02-10\n",
      "2023-02-11\n",
      "2023-02-12\n",
      "2023-02-13\n",
      "2023-02-14\n",
      "2023-02-15\n",
      "2023-02-16\n",
      "2023-02-17\n",
      "2023-02-18\n",
      "2023-02-19\n",
      "2023-02-20\n",
      "2023-02-21\n",
      "2023-02-22\n",
      "2023-02-23\n",
      "2023-02-24\n",
      "2023-02-25\n",
      "2023-02-26\n",
      "2023-02-27\n",
      "2023-02-28\n",
      "2023-03-01\n"
     ]
    }
   ],
   "source": [
    "#Q9\n",
    "\n",
    "from datetime import datetime, timedelta\n",
    "\n",
    "start = datetime(2023, 2, 1)\n",
    "end = datetime(2023, 3, 1)\n",
    "\n",
    "current_date = start\n",
    "while current_date <= end:\n",
    "    print(current_date.strftime(\"%Y-%m-%d\"))\n",
    "    current_date += timedelta(days=1)"
   ]
  },
  {
   "cell_type": "code",
   "execution_count": 39,
   "id": "74481e37",
   "metadata": {},
   "outputs": [
    {
     "name": "stdout",
     "output_type": "stream",
     "text": [
      "     Brand  Sales\n",
      "0   Maruti    250\n",
      "1  Renault    200\n",
      "2  Hyundai    240\n"
     ]
    }
   ],
   "source": [
    "#Q10\n",
    "\n",
    "import pandas as pd\n",
    "\n",
    "dict = {'Brand':['Maruti', 'Renault', 'Hyundai'], 'Sales':[250,200,240]}\n",
    "df = pd.DataFrame(dict)\n",
    "print(df)"
   ]
  },
  {
   "cell_type": "code",
   "execution_count": null,
   "id": "e529f447",
   "metadata": {},
   "outputs": [],
   "source": []
  },
  {
   "cell_type": "code",
   "execution_count": null,
   "id": "94a5cd67",
   "metadata": {},
   "outputs": [],
   "source": []
  },
  {
   "cell_type": "code",
   "execution_count": null,
   "id": "745d393e",
   "metadata": {},
   "outputs": [],
   "source": []
  }
 ],
 "metadata": {
  "kernelspec": {
   "display_name": "Python 3 (ipykernel)",
   "language": "python",
   "name": "python3"
  },
  "language_info": {
   "codemirror_mode": {
    "name": "ipython",
    "version": 3
   },
   "file_extension": ".py",
   "mimetype": "text/x-python",
   "name": "python",
   "nbconvert_exporter": "python",
   "pygments_lexer": "ipython3",
   "version": "3.10.0"
  }
 },
 "nbformat": 4,
 "nbformat_minor": 5
}
