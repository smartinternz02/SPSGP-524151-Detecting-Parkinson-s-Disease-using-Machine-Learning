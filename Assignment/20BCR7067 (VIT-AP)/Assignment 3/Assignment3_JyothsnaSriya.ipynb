{
 "cells": [
  {
   "cell_type": "code",
   "execution_count": 2,
   "id": "41311f33",
   "metadata": {},
   "outputs": [],
   "source": [
    "import pandas as pd\n",
    "import numpy as np"
   ]
  },
  {
   "cell_type": "code",
   "execution_count": 3,
   "id": "7155e225",
   "metadata": {},
   "outputs": [],
   "source": [
    "import matplotlib.pyplot as plt\n",
    "%matplotlib inline\n",
    "import seaborn as sns"
   ]
  },
  {
   "cell_type": "code",
   "execution_count": 56,
   "id": "2676e369",
   "metadata": {},
   "outputs": [],
   "source": [
    "df=pd.read_csv('Housing.csv')"
   ]
  },
  {
   "cell_type": "code",
   "execution_count": 5,
   "id": "691cfd45",
   "metadata": {},
   "outputs": [
    {
     "data": {
      "text/html": [
       "<div>\n",
       "<style scoped>\n",
       "    .dataframe tbody tr th:only-of-type {\n",
       "        vertical-align: middle;\n",
       "    }\n",
       "\n",
       "    .dataframe tbody tr th {\n",
       "        vertical-align: top;\n",
       "    }\n",
       "\n",
       "    .dataframe thead th {\n",
       "        text-align: right;\n",
       "    }\n",
       "</style>\n",
       "<table border=\"1\" class=\"dataframe\">\n",
       "  <thead>\n",
       "    <tr style=\"text-align: right;\">\n",
       "      <th></th>\n",
       "      <th>price</th>\n",
       "      <th>area</th>\n",
       "      <th>bedrooms</th>\n",
       "      <th>bathrooms</th>\n",
       "      <th>stories</th>\n",
       "      <th>mainroad</th>\n",
       "      <th>guestroom</th>\n",
       "      <th>basement</th>\n",
       "      <th>hotwaterheating</th>\n",
       "      <th>airconditioning</th>\n",
       "      <th>parking</th>\n",
       "      <th>furnishingstatus</th>\n",
       "    </tr>\n",
       "  </thead>\n",
       "  <tbody>\n",
       "    <tr>\n",
       "      <th>0</th>\n",
       "      <td>13300000</td>\n",
       "      <td>7420</td>\n",
       "      <td>4</td>\n",
       "      <td>2</td>\n",
       "      <td>3</td>\n",
       "      <td>yes</td>\n",
       "      <td>no</td>\n",
       "      <td>no</td>\n",
       "      <td>no</td>\n",
       "      <td>yes</td>\n",
       "      <td>2</td>\n",
       "      <td>furnished</td>\n",
       "    </tr>\n",
       "    <tr>\n",
       "      <th>1</th>\n",
       "      <td>12250000</td>\n",
       "      <td>8960</td>\n",
       "      <td>4</td>\n",
       "      <td>4</td>\n",
       "      <td>4</td>\n",
       "      <td>yes</td>\n",
       "      <td>no</td>\n",
       "      <td>no</td>\n",
       "      <td>no</td>\n",
       "      <td>yes</td>\n",
       "      <td>3</td>\n",
       "      <td>furnished</td>\n",
       "    </tr>\n",
       "    <tr>\n",
       "      <th>2</th>\n",
       "      <td>12250000</td>\n",
       "      <td>9960</td>\n",
       "      <td>3</td>\n",
       "      <td>2</td>\n",
       "      <td>2</td>\n",
       "      <td>yes</td>\n",
       "      <td>no</td>\n",
       "      <td>yes</td>\n",
       "      <td>no</td>\n",
       "      <td>no</td>\n",
       "      <td>2</td>\n",
       "      <td>semi-furnished</td>\n",
       "    </tr>\n",
       "    <tr>\n",
       "      <th>3</th>\n",
       "      <td>12215000</td>\n",
       "      <td>7500</td>\n",
       "      <td>4</td>\n",
       "      <td>2</td>\n",
       "      <td>2</td>\n",
       "      <td>yes</td>\n",
       "      <td>no</td>\n",
       "      <td>yes</td>\n",
       "      <td>no</td>\n",
       "      <td>yes</td>\n",
       "      <td>3</td>\n",
       "      <td>furnished</td>\n",
       "    </tr>\n",
       "    <tr>\n",
       "      <th>4</th>\n",
       "      <td>11410000</td>\n",
       "      <td>7420</td>\n",
       "      <td>4</td>\n",
       "      <td>1</td>\n",
       "      <td>2</td>\n",
       "      <td>yes</td>\n",
       "      <td>yes</td>\n",
       "      <td>yes</td>\n",
       "      <td>no</td>\n",
       "      <td>yes</td>\n",
       "      <td>2</td>\n",
       "      <td>furnished</td>\n",
       "    </tr>\n",
       "    <tr>\n",
       "      <th>...</th>\n",
       "      <td>...</td>\n",
       "      <td>...</td>\n",
       "      <td>...</td>\n",
       "      <td>...</td>\n",
       "      <td>...</td>\n",
       "      <td>...</td>\n",
       "      <td>...</td>\n",
       "      <td>...</td>\n",
       "      <td>...</td>\n",
       "      <td>...</td>\n",
       "      <td>...</td>\n",
       "      <td>...</td>\n",
       "    </tr>\n",
       "    <tr>\n",
       "      <th>540</th>\n",
       "      <td>1820000</td>\n",
       "      <td>3000</td>\n",
       "      <td>2</td>\n",
       "      <td>1</td>\n",
       "      <td>1</td>\n",
       "      <td>yes</td>\n",
       "      <td>no</td>\n",
       "      <td>yes</td>\n",
       "      <td>no</td>\n",
       "      <td>no</td>\n",
       "      <td>2</td>\n",
       "      <td>unfurnished</td>\n",
       "    </tr>\n",
       "    <tr>\n",
       "      <th>541</th>\n",
       "      <td>1767150</td>\n",
       "      <td>2400</td>\n",
       "      <td>3</td>\n",
       "      <td>1</td>\n",
       "      <td>1</td>\n",
       "      <td>no</td>\n",
       "      <td>no</td>\n",
       "      <td>no</td>\n",
       "      <td>no</td>\n",
       "      <td>no</td>\n",
       "      <td>0</td>\n",
       "      <td>semi-furnished</td>\n",
       "    </tr>\n",
       "    <tr>\n",
       "      <th>542</th>\n",
       "      <td>1750000</td>\n",
       "      <td>3620</td>\n",
       "      <td>2</td>\n",
       "      <td>1</td>\n",
       "      <td>1</td>\n",
       "      <td>yes</td>\n",
       "      <td>no</td>\n",
       "      <td>no</td>\n",
       "      <td>no</td>\n",
       "      <td>no</td>\n",
       "      <td>0</td>\n",
       "      <td>unfurnished</td>\n",
       "    </tr>\n",
       "    <tr>\n",
       "      <th>543</th>\n",
       "      <td>1750000</td>\n",
       "      <td>2910</td>\n",
       "      <td>3</td>\n",
       "      <td>1</td>\n",
       "      <td>1</td>\n",
       "      <td>no</td>\n",
       "      <td>no</td>\n",
       "      <td>no</td>\n",
       "      <td>no</td>\n",
       "      <td>no</td>\n",
       "      <td>0</td>\n",
       "      <td>furnished</td>\n",
       "    </tr>\n",
       "    <tr>\n",
       "      <th>544</th>\n",
       "      <td>1750000</td>\n",
       "      <td>3850</td>\n",
       "      <td>3</td>\n",
       "      <td>1</td>\n",
       "      <td>2</td>\n",
       "      <td>yes</td>\n",
       "      <td>no</td>\n",
       "      <td>no</td>\n",
       "      <td>no</td>\n",
       "      <td>no</td>\n",
       "      <td>0</td>\n",
       "      <td>unfurnished</td>\n",
       "    </tr>\n",
       "  </tbody>\n",
       "</table>\n",
       "<p>545 rows × 12 columns</p>\n",
       "</div>"
      ],
      "text/plain": [
       "        price  area  bedrooms  bathrooms  stories mainroad guestroom basement  \\\n",
       "0    13300000  7420         4          2        3      yes        no       no   \n",
       "1    12250000  8960         4          4        4      yes        no       no   \n",
       "2    12250000  9960         3          2        2      yes        no      yes   \n",
       "3    12215000  7500         4          2        2      yes        no      yes   \n",
       "4    11410000  7420         4          1        2      yes       yes      yes   \n",
       "..        ...   ...       ...        ...      ...      ...       ...      ...   \n",
       "540   1820000  3000         2          1        1      yes        no      yes   \n",
       "541   1767150  2400         3          1        1       no        no       no   \n",
       "542   1750000  3620         2          1        1      yes        no       no   \n",
       "543   1750000  2910         3          1        1       no        no       no   \n",
       "544   1750000  3850         3          1        2      yes        no       no   \n",
       "\n",
       "    hotwaterheating airconditioning  parking furnishingstatus  \n",
       "0                no             yes        2        furnished  \n",
       "1                no             yes        3        furnished  \n",
       "2                no              no        2   semi-furnished  \n",
       "3                no             yes        3        furnished  \n",
       "4                no             yes        2        furnished  \n",
       "..              ...             ...      ...              ...  \n",
       "540              no              no        2      unfurnished  \n",
       "541              no              no        0   semi-furnished  \n",
       "542              no              no        0      unfurnished  \n",
       "543              no              no        0        furnished  \n",
       "544              no              no        0      unfurnished  \n",
       "\n",
       "[545 rows x 12 columns]"
      ]
     },
     "execution_count": 5,
     "metadata": {},
     "output_type": "execute_result"
    }
   ],
   "source": [
    "df"
   ]
  },
  {
   "cell_type": "code",
   "execution_count": 6,
   "id": "69ad4cc5",
   "metadata": {},
   "outputs": [
    {
     "data": {
      "text/plain": [
       "price                int64\n",
       "area                 int64\n",
       "bedrooms             int64\n",
       "bathrooms            int64\n",
       "stories              int64\n",
       "mainroad            object\n",
       "guestroom           object\n",
       "basement            object\n",
       "hotwaterheating     object\n",
       "airconditioning     object\n",
       "parking              int64\n",
       "furnishingstatus    object\n",
       "dtype: object"
      ]
     },
     "execution_count": 6,
     "metadata": {},
     "output_type": "execute_result"
    }
   ],
   "source": [
    "df.dtypes"
   ]
  },
  {
   "cell_type": "code",
   "execution_count": 7,
   "id": "0379d0d6",
   "metadata": {},
   "outputs": [
    {
     "data": {
      "text/html": [
       "<div>\n",
       "<style scoped>\n",
       "    .dataframe tbody tr th:only-of-type {\n",
       "        vertical-align: middle;\n",
       "    }\n",
       "\n",
       "    .dataframe tbody tr th {\n",
       "        vertical-align: top;\n",
       "    }\n",
       "\n",
       "    .dataframe thead th {\n",
       "        text-align: right;\n",
       "    }\n",
       "</style>\n",
       "<table border=\"1\" class=\"dataframe\">\n",
       "  <thead>\n",
       "    <tr style=\"text-align: right;\">\n",
       "      <th></th>\n",
       "      <th>price</th>\n",
       "      <th>area</th>\n",
       "      <th>bedrooms</th>\n",
       "      <th>bathrooms</th>\n",
       "      <th>stories</th>\n",
       "      <th>mainroad</th>\n",
       "      <th>guestroom</th>\n",
       "      <th>basement</th>\n",
       "      <th>hotwaterheating</th>\n",
       "      <th>airconditioning</th>\n",
       "      <th>parking</th>\n",
       "      <th>furnishingstatus</th>\n",
       "    </tr>\n",
       "  </thead>\n",
       "  <tbody>\n",
       "    <tr>\n",
       "      <th>0</th>\n",
       "      <td>13300000</td>\n",
       "      <td>7420</td>\n",
       "      <td>4</td>\n",
       "      <td>2</td>\n",
       "      <td>3</td>\n",
       "      <td>yes</td>\n",
       "      <td>no</td>\n",
       "      <td>no</td>\n",
       "      <td>no</td>\n",
       "      <td>yes</td>\n",
       "      <td>2</td>\n",
       "      <td>furnished</td>\n",
       "    </tr>\n",
       "    <tr>\n",
       "      <th>1</th>\n",
       "      <td>12250000</td>\n",
       "      <td>8960</td>\n",
       "      <td>4</td>\n",
       "      <td>4</td>\n",
       "      <td>4</td>\n",
       "      <td>yes</td>\n",
       "      <td>no</td>\n",
       "      <td>no</td>\n",
       "      <td>no</td>\n",
       "      <td>yes</td>\n",
       "      <td>3</td>\n",
       "      <td>furnished</td>\n",
       "    </tr>\n",
       "    <tr>\n",
       "      <th>2</th>\n",
       "      <td>12250000</td>\n",
       "      <td>9960</td>\n",
       "      <td>3</td>\n",
       "      <td>2</td>\n",
       "      <td>2</td>\n",
       "      <td>yes</td>\n",
       "      <td>no</td>\n",
       "      <td>yes</td>\n",
       "      <td>no</td>\n",
       "      <td>no</td>\n",
       "      <td>2</td>\n",
       "      <td>semi-furnished</td>\n",
       "    </tr>\n",
       "    <tr>\n",
       "      <th>3</th>\n",
       "      <td>12215000</td>\n",
       "      <td>7500</td>\n",
       "      <td>4</td>\n",
       "      <td>2</td>\n",
       "      <td>2</td>\n",
       "      <td>yes</td>\n",
       "      <td>no</td>\n",
       "      <td>yes</td>\n",
       "      <td>no</td>\n",
       "      <td>yes</td>\n",
       "      <td>3</td>\n",
       "      <td>furnished</td>\n",
       "    </tr>\n",
       "    <tr>\n",
       "      <th>4</th>\n",
       "      <td>11410000</td>\n",
       "      <td>7420</td>\n",
       "      <td>4</td>\n",
       "      <td>1</td>\n",
       "      <td>2</td>\n",
       "      <td>yes</td>\n",
       "      <td>yes</td>\n",
       "      <td>yes</td>\n",
       "      <td>no</td>\n",
       "      <td>yes</td>\n",
       "      <td>2</td>\n",
       "      <td>furnished</td>\n",
       "    </tr>\n",
       "  </tbody>\n",
       "</table>\n",
       "</div>"
      ],
      "text/plain": [
       "      price  area  bedrooms  bathrooms  stories mainroad guestroom basement  \\\n",
       "0  13300000  7420         4          2        3      yes        no       no   \n",
       "1  12250000  8960         4          4        4      yes        no       no   \n",
       "2  12250000  9960         3          2        2      yes        no      yes   \n",
       "3  12215000  7500         4          2        2      yes        no      yes   \n",
       "4  11410000  7420         4          1        2      yes       yes      yes   \n",
       "\n",
       "  hotwaterheating airconditioning  parking furnishingstatus  \n",
       "0              no             yes        2        furnished  \n",
       "1              no             yes        3        furnished  \n",
       "2              no              no        2   semi-furnished  \n",
       "3              no             yes        3        furnished  \n",
       "4              no             yes        2        furnished  "
      ]
     },
     "execution_count": 7,
     "metadata": {},
     "output_type": "execute_result"
    }
   ],
   "source": [
    "df.head()"
   ]
  },
  {
   "cell_type": "code",
   "execution_count": 8,
   "id": "9c50154c",
   "metadata": {},
   "outputs": [
    {
     "data": {
      "text/html": [
       "<div>\n",
       "<style scoped>\n",
       "    .dataframe tbody tr th:only-of-type {\n",
       "        vertical-align: middle;\n",
       "    }\n",
       "\n",
       "    .dataframe tbody tr th {\n",
       "        vertical-align: top;\n",
       "    }\n",
       "\n",
       "    .dataframe thead th {\n",
       "        text-align: right;\n",
       "    }\n",
       "</style>\n",
       "<table border=\"1\" class=\"dataframe\">\n",
       "  <thead>\n",
       "    <tr style=\"text-align: right;\">\n",
       "      <th></th>\n",
       "      <th>price</th>\n",
       "      <th>area</th>\n",
       "      <th>bedrooms</th>\n",
       "      <th>bathrooms</th>\n",
       "      <th>stories</th>\n",
       "      <th>mainroad</th>\n",
       "      <th>guestroom</th>\n",
       "      <th>basement</th>\n",
       "      <th>hotwaterheating</th>\n",
       "      <th>airconditioning</th>\n",
       "      <th>parking</th>\n",
       "      <th>furnishingstatus</th>\n",
       "    </tr>\n",
       "  </thead>\n",
       "  <tbody>\n",
       "    <tr>\n",
       "      <th>540</th>\n",
       "      <td>1820000</td>\n",
       "      <td>3000</td>\n",
       "      <td>2</td>\n",
       "      <td>1</td>\n",
       "      <td>1</td>\n",
       "      <td>yes</td>\n",
       "      <td>no</td>\n",
       "      <td>yes</td>\n",
       "      <td>no</td>\n",
       "      <td>no</td>\n",
       "      <td>2</td>\n",
       "      <td>unfurnished</td>\n",
       "    </tr>\n",
       "    <tr>\n",
       "      <th>541</th>\n",
       "      <td>1767150</td>\n",
       "      <td>2400</td>\n",
       "      <td>3</td>\n",
       "      <td>1</td>\n",
       "      <td>1</td>\n",
       "      <td>no</td>\n",
       "      <td>no</td>\n",
       "      <td>no</td>\n",
       "      <td>no</td>\n",
       "      <td>no</td>\n",
       "      <td>0</td>\n",
       "      <td>semi-furnished</td>\n",
       "    </tr>\n",
       "    <tr>\n",
       "      <th>542</th>\n",
       "      <td>1750000</td>\n",
       "      <td>3620</td>\n",
       "      <td>2</td>\n",
       "      <td>1</td>\n",
       "      <td>1</td>\n",
       "      <td>yes</td>\n",
       "      <td>no</td>\n",
       "      <td>no</td>\n",
       "      <td>no</td>\n",
       "      <td>no</td>\n",
       "      <td>0</td>\n",
       "      <td>unfurnished</td>\n",
       "    </tr>\n",
       "    <tr>\n",
       "      <th>543</th>\n",
       "      <td>1750000</td>\n",
       "      <td>2910</td>\n",
       "      <td>3</td>\n",
       "      <td>1</td>\n",
       "      <td>1</td>\n",
       "      <td>no</td>\n",
       "      <td>no</td>\n",
       "      <td>no</td>\n",
       "      <td>no</td>\n",
       "      <td>no</td>\n",
       "      <td>0</td>\n",
       "      <td>furnished</td>\n",
       "    </tr>\n",
       "    <tr>\n",
       "      <th>544</th>\n",
       "      <td>1750000</td>\n",
       "      <td>3850</td>\n",
       "      <td>3</td>\n",
       "      <td>1</td>\n",
       "      <td>2</td>\n",
       "      <td>yes</td>\n",
       "      <td>no</td>\n",
       "      <td>no</td>\n",
       "      <td>no</td>\n",
       "      <td>no</td>\n",
       "      <td>0</td>\n",
       "      <td>unfurnished</td>\n",
       "    </tr>\n",
       "  </tbody>\n",
       "</table>\n",
       "</div>"
      ],
      "text/plain": [
       "       price  area  bedrooms  bathrooms  stories mainroad guestroom basement  \\\n",
       "540  1820000  3000         2          1        1      yes        no      yes   \n",
       "541  1767150  2400         3          1        1       no        no       no   \n",
       "542  1750000  3620         2          1        1      yes        no       no   \n",
       "543  1750000  2910         3          1        1       no        no       no   \n",
       "544  1750000  3850         3          1        2      yes        no       no   \n",
       "\n",
       "    hotwaterheating airconditioning  parking furnishingstatus  \n",
       "540              no              no        2      unfurnished  \n",
       "541              no              no        0   semi-furnished  \n",
       "542              no              no        0      unfurnished  \n",
       "543              no              no        0        furnished  \n",
       "544              no              no        0      unfurnished  "
      ]
     },
     "execution_count": 8,
     "metadata": {},
     "output_type": "execute_result"
    }
   ],
   "source": [
    "df.tail()"
   ]
  },
  {
   "cell_type": "code",
   "execution_count": 9,
   "id": "a096fb35",
   "metadata": {},
   "outputs": [
    {
     "name": "stdout",
     "output_type": "stream",
     "text": [
      "<class 'pandas.core.frame.DataFrame'>\n",
      "RangeIndex: 545 entries, 0 to 544\n",
      "Data columns (total 12 columns):\n",
      " #   Column            Non-Null Count  Dtype \n",
      "---  ------            --------------  ----- \n",
      " 0   price             545 non-null    int64 \n",
      " 1   area              545 non-null    int64 \n",
      " 2   bedrooms          545 non-null    int64 \n",
      " 3   bathrooms         545 non-null    int64 \n",
      " 4   stories           545 non-null    int64 \n",
      " 5   mainroad          545 non-null    object\n",
      " 6   guestroom         545 non-null    object\n",
      " 7   basement          545 non-null    object\n",
      " 8   hotwaterheating   545 non-null    object\n",
      " 9   airconditioning   545 non-null    object\n",
      " 10  parking           545 non-null    int64 \n",
      " 11  furnishingstatus  545 non-null    object\n",
      "dtypes: int64(6), object(6)\n",
      "memory usage: 51.2+ KB\n"
     ]
    }
   ],
   "source": [
    "df.info()"
   ]
  },
  {
   "cell_type": "code",
   "execution_count": 10,
   "id": "410dd2a0",
   "metadata": {},
   "outputs": [
    {
     "data": {
      "text/plain": [
       "0      13300000\n",
       "1      12250000\n",
       "2      12250000\n",
       "3      12215000\n",
       "4      11410000\n",
       "         ...   \n",
       "540     1820000\n",
       "541     1767150\n",
       "542     1750000\n",
       "543     1750000\n",
       "544     1750000\n",
       "Name: price, Length: 545, dtype: int64"
      ]
     },
     "execution_count": 10,
     "metadata": {},
     "output_type": "execute_result"
    }
   ],
   "source": [
    "df['price']"
   ]
  },
  {
   "cell_type": "code",
   "execution_count": 11,
   "id": "b5f565a0",
   "metadata": {},
   "outputs": [
    {
     "data": {
      "text/plain": [
       "(array([ 61., 163., 139.,  89.,  46.,  25.,  13.,   4.,   1.,   4.]),\n",
       " array([ 1750000.,  2905000.,  4060000.,  5215000.,  6370000.,  7525000.,\n",
       "         8680000.,  9835000., 10990000., 12145000., 13300000.]),\n",
       " <BarContainer object of 10 artists>)"
      ]
     },
     "execution_count": 11,
     "metadata": {},
     "output_type": "execute_result"
    },
    {
     "data": {
      "image/png": "[encoded data removed]",
      "text/plain": [
       "<Figure size 640x480 with 1 Axes>"
      ]
     },
     "metadata": {},
     "output_type": "display_data"
    }
   ],
   "source": [
    "#histogram\n",
    "plt.hist(df['price'])"
   ]
  },
  {
   "cell_type": "code",
   "execution_count": 12,
   "id": "5ab8a15a",
   "metadata": {},
   "outputs": [
    {
     "data": {
      "image/png": "[encoded data removed]",
      "text/plain": [
       "<Figure size 640x480 with 1 Axes>"
      ]
     },
     "metadata": {},
     "output_type": "display_data"
    }
   ],
   "source": [
    "#Line plot\n",
    "plt.plot(df.index,df['area'])\n",
    "plt.show()"
   ]
  },
  {
   "cell_type": "code",
   "execution_count": 13,
   "id": "c1b9317b",
   "metadata": {},
   "outputs": [
    {
     "data": {
      "image/png": "[encoded data removed]",
      "text/plain": [
       "<Figure size 640x480 with 1 Axes>"
      ]
     },
     "metadata": {},
     "output_type": "display_data"
    }
   ],
   "source": [
    "#Scatterplot\n",
    "plt.scatter(df.index,df['area'])\n",
    "plt.show()"
   ]
  },
  {
   "cell_type": "code",
   "execution_count": 14,
   "id": "dd47787d",
   "metadata": {},
   "outputs": [
    {
     "data": {
      "text/plain": [
       "<AxesSubplot:>"
      ]
     },
     "execution_count": 14,
     "metadata": {},
     "output_type": "execute_result"
    },
    {
     "data": {
      "image/png": "[encoded data removed]",
      "text/plain": [
       "<Figure size 640x480 with 1 Axes>"
      ]
     },
     "metadata": {},
     "output_type": "display_data"
    }
   ],
   "source": [
    "#Bar plot (Univariate)\n",
    "df['bedrooms'].value_counts().plot.bar()"
   ]
  },
  {
   "cell_type": "code",
   "execution_count": 15,
   "id": "6fb3895c",
   "metadata": {},
   "outputs": [
    {
     "data": {
      "text/plain": [
       "{'whiskers': [<matplotlib.lines.Line2D at 0x2139da0cc10>,\n",
       "  <matplotlib.lines.Line2D at 0x2139da0cee0>],\n",
       " 'caps': [<matplotlib.lines.Line2D at 0x2139d89e220>,\n",
       "  <matplotlib.lines.Line2D at 0x2139d89e4f0>],\n",
       " 'boxes': [<matplotlib.lines.Line2D at 0x2139da0c940>],\n",
       " 'medians': [<matplotlib.lines.Line2D at 0x2139d89e7c0>],\n",
       " 'fliers': [<matplotlib.lines.Line2D at 0x2139d89ea90>],\n",
       " 'means': []}"
      ]
     },
     "execution_count": 15,
     "metadata": {},
     "output_type": "execute_result"
    },
    {
     "data": {
      "image/png": "[encoded data removed]",
      "text/plain": [
       "<Figure size 640x480 with 1 Axes>"
      ]
     },
     "metadata": {},
     "output_type": "display_data"
    }
   ],
   "source": [
    "#box plot\n",
    "plt.boxplot(df['stories'])"
   ]
  },
  {
   "cell_type": "code",
   "execution_count": 16,
   "id": "0bae54c7",
   "metadata": {},
   "outputs": [
    {
     "data": {
      "text/plain": [
       "([<matplotlib.patches.Wedge at 0x2139d8ff370>,\n",
       "  <matplotlib.patches.Wedge at 0x2139d8ffa90>,\n",
       "  <matplotlib.patches.Wedge at 0x2139d90c1f0>],\n",
       " [Text(0.28521128309432414, 1.0623815340995388, 'furnished'),\n",
       "  Text(-0.9645476294288756, -0.5288174264934321, 'semi-furnished'),\n",
       "  Text(0.7608233961924185, -0.7944480850289933, 'unfurnished')],\n",
       " [Text(0.15556979077872224, 0.5794808367815666, '41.65'),\n",
       "  Text(-0.5261168887793867, -0.2884458689964175, '32.66'),\n",
       "  Text(0.4149945797413191, -0.43333531910672357, '25.69')])"
      ]
     },
     "execution_count": 16,
     "metadata": {},
     "output_type": "execute_result"
    },
    {
     "data": {
      "image/png": "[encoded data removed]",
      "text/plain": [
       "<Figure size 640x480 with 1 Axes>"
      ]
     },
     "metadata": {},
     "output_type": "display_data"
    }
   ],
   "source": [
    "# Pie chart\n",
    "d=df['furnishingstatus'].value_counts()\n",
    "list=df['furnishingstatus'].unique()\n",
    "plt.pie(d,autopct='%.2f',labels=list)"
   ]
  },
  {
   "cell_type": "code",
   "execution_count": 17,
   "id": "074f35eb",
   "metadata": {},
   "outputs": [
    {
     "name": "stderr",
     "output_type": "stream",
     "text": [
      "C:\\Users\\Sriya\\anaconda3\\lib\\site-packages\\seaborn\\distributions.py:2619: FutureWarning: `distplot` is a deprecated function and will be removed in a future version. Please adapt your code to use either `displot` (a figure-level function with similar flexibility) or `histplot` (an axes-level function for histograms).\n",
      "  warnings.warn(msg, FutureWarning)\n"
     ]
    },
    {
     "data": {
      "text/plain": [
       "<AxesSubplot:xlabel='price', ylabel='Density'>"
      ]
     },
     "execution_count": 17,
     "metadata": {},
     "output_type": "execute_result"
    },
    {
     "data": {
      "image/png": "[encoded data removed]",
      "text/plain": [
       "<Figure size 640x480 with 1 Axes>"
      ]
     },
     "metadata": {},
     "output_type": "display_data"
    }
   ],
   "source": [
    "sns.distplot(df.price)"
   ]
  },
  {
   "cell_type": "markdown",
   "id": "63982324",
   "metadata": {},
   "source": [
    "Bivariate Analysis"
   ]
  },
  {
   "cell_type": "code",
   "execution_count": 20,
   "id": "d0a1eb7b",
   "metadata": {},
   "outputs": [
    {
     "data": {
      "text/plain": [
       "<BarContainer object of 545 artists>"
      ]
     },
     "execution_count": 20,
     "metadata": {},
     "output_type": "execute_result"
    },
    {
     "data": {
      "image/png": "[encoded data removed]",
      "text/plain": [
       "<Figure size 640x480 with 1 Axes>"
      ]
     },
     "metadata": {},
     "output_type": "display_data"
    }
   ],
   "source": [
    "#bar plot\n",
    "plt.bar(df['stories'],df['price'])"
   ]
  },
  {
   "cell_type": "code",
   "execution_count": 21,
   "id": "5425bfd5",
   "metadata": {},
   "outputs": [
    {
     "data": {
      "image/png": "[encoded data removed]",
      "text/plain": [
       "<Figure size 640x480 with 1 Axes>"
      ]
     },
     "metadata": {},
     "output_type": "display_data"
    }
   ],
   "source": [
    "plt.scatter(df['price'],df['area'])\n",
    "plt.show()"
   ]
  },
  {
   "cell_type": "code",
   "execution_count": 29,
   "id": "70961ade",
   "metadata": {},
   "outputs": [
    {
     "name": "stderr",
     "output_type": "stream",
     "text": [
      "C:\\Users\\Sriya\\anaconda3\\lib\\site-packages\\seaborn\\_decorators.py:36: FutureWarning: Pass the following variables as keyword args: x, y. From version 0.12, the only valid positional argument will be `data`, and passing other arguments without an explicit keyword will result in an error or misinterpretation.\n",
      "  warnings.warn(\n"
     ]
    },
    {
     "data": {
      "text/plain": [
       "<AxesSubplot:xlabel='bathrooms', ylabel='area'>"
      ]
     },
     "execution_count": 29,
     "metadata": {},
     "output_type": "execute_result"
    },
    {
     "data": {
      "image/png": "[encoded data removed]",
      "text/plain": [
       "<Figure size 640x480 with 1 Axes>"
      ]
     },
     "metadata": {},
     "output_type": "display_data"
    }
   ],
   "source": [
    "sns.boxplot(df['bathrooms'],df['area'])"
   ]
  },
  {
   "cell_type": "code",
   "execution_count": 31,
   "id": "98b5fdac",
   "metadata": {},
   "outputs": [
    {
     "data": {
      "text/plain": [
       "[<matplotlib.lines.Line2D at 0x215a9c17040>]"
      ]
     },
     "execution_count": 31,
     "metadata": {},
     "output_type": "execute_result"
    },
    {
     "data": {
      "image/png": "[encoded data removed]",
      "text/plain": [
       "<Figure size 640x480 with 1 Axes>"
      ]
     },
     "metadata": {},
     "output_type": "display_data"
    }
   ],
   "source": [
    "plt.plot(df['price'],df['area'])"
   ]
  },
  {
   "cell_type": "markdown",
   "id": "87b478ac",
   "metadata": {},
   "source": [
    "Multivariate Analysis"
   ]
  },
  {
   "cell_type": "code",
   "execution_count": 32,
   "id": "cc79fa6b",
   "metadata": {},
   "outputs": [
    {
     "data": {
      "text/html": [
       "<div>\n",
       "<style scoped>\n",
       "    .dataframe tbody tr th:only-of-type {\n",
       "        vertical-align: middle;\n",
       "    }\n",
       "\n",
       "    .dataframe tbody tr th {\n",
       "        vertical-align: top;\n",
       "    }\n",
       "\n",
       "    .dataframe thead th {\n",
       "        text-align: right;\n",
       "    }\n",
       "</style>\n",
       "<table border=\"1\" class=\"dataframe\">\n",
       "  <thead>\n",
       "    <tr style=\"text-align: right;\">\n",
       "      <th></th>\n",
       "      <th>price</th>\n",
       "      <th>area</th>\n",
       "      <th>bedrooms</th>\n",
       "      <th>bathrooms</th>\n",
       "      <th>stories</th>\n",
       "      <th>parking</th>\n",
       "    </tr>\n",
       "  </thead>\n",
       "  <tbody>\n",
       "    <tr>\n",
       "      <th>price</th>\n",
       "      <td>1.000000</td>\n",
       "      <td>0.535997</td>\n",
       "      <td>0.366494</td>\n",
       "      <td>0.517545</td>\n",
       "      <td>0.420712</td>\n",
       "      <td>0.384394</td>\n",
       "    </tr>\n",
       "    <tr>\n",
       "      <th>area</th>\n",
       "      <td>0.535997</td>\n",
       "      <td>1.000000</td>\n",
       "      <td>0.151858</td>\n",
       "      <td>0.193820</td>\n",
       "      <td>0.083996</td>\n",
       "      <td>0.352980</td>\n",
       "    </tr>\n",
       "    <tr>\n",
       "      <th>bedrooms</th>\n",
       "      <td>0.366494</td>\n",
       "      <td>0.151858</td>\n",
       "      <td>1.000000</td>\n",
       "      <td>0.373930</td>\n",
       "      <td>0.408564</td>\n",
       "      <td>0.139270</td>\n",
       "    </tr>\n",
       "    <tr>\n",
       "      <th>bathrooms</th>\n",
       "      <td>0.517545</td>\n",
       "      <td>0.193820</td>\n",
       "      <td>0.373930</td>\n",
       "      <td>1.000000</td>\n",
       "      <td>0.326165</td>\n",
       "      <td>0.177496</td>\n",
       "    </tr>\n",
       "    <tr>\n",
       "      <th>stories</th>\n",
       "      <td>0.420712</td>\n",
       "      <td>0.083996</td>\n",
       "      <td>0.408564</td>\n",
       "      <td>0.326165</td>\n",
       "      <td>1.000000</td>\n",
       "      <td>0.045547</td>\n",
       "    </tr>\n",
       "    <tr>\n",
       "      <th>parking</th>\n",
       "      <td>0.384394</td>\n",
       "      <td>0.352980</td>\n",
       "      <td>0.139270</td>\n",
       "      <td>0.177496</td>\n",
       "      <td>0.045547</td>\n",
       "      <td>1.000000</td>\n",
       "    </tr>\n",
       "  </tbody>\n",
       "</table>\n",
       "</div>"
      ],
      "text/plain": [
       "              price      area  bedrooms  bathrooms   stories   parking\n",
       "price      1.000000  0.535997  0.366494   0.517545  0.420712  0.384394\n",
       "area       0.535997  1.000000  0.151858   0.193820  0.083996  0.352980\n",
       "bedrooms   0.366494  0.151858  1.000000   0.373930  0.408564  0.139270\n",
       "bathrooms  0.517545  0.193820  0.373930   1.000000  0.326165  0.177496\n",
       "stories    0.420712  0.083996  0.408564   0.326165  1.000000  0.045547\n",
       "parking    0.384394  0.352980  0.139270   0.177496  0.045547  1.000000"
      ]
     },
     "execution_count": 32,
     "metadata": {},
     "output_type": "execute_result"
    }
   ],
   "source": [
    "df.corr()"
   ]
  },
  {
   "cell_type": "code",
   "execution_count": 33,
   "id": "69ae9c88",
   "metadata": {},
   "outputs": [
    {
     "data": {
      "text/plain": [
       "<AxesSubplot:>"
      ]
     },
     "execution_count": 33,
     "metadata": {},
     "output_type": "execute_result"
    },
    {
     "data": {
      "image/png": "[encoded data removed]",
      "text/plain": [
       "<Figure size 640x480 with 2 Axes>"
      ]
     },
     "metadata": {},
     "output_type": "display_data"
    }
   ],
   "source": [
    "sns.heatmap(df.corr())"
   ]
  },
  {
   "cell_type": "code",
   "execution_count": 35,
   "id": "25deacae",
   "metadata": {},
   "outputs": [
    {
     "name": "stderr",
     "output_type": "stream",
     "text": [
      "C:\\Users\\Sriya\\anaconda3\\lib\\site-packages\\seaborn\\_decorators.py:36: FutureWarning: Pass the following variables as keyword args: x, y. From version 0.12, the only valid positional argument will be `data`, and passing other arguments without an explicit keyword will result in an error or misinterpretation.\n",
      "  warnings.warn(\n"
     ]
    },
    {
     "data": {
      "text/plain": [
       "<seaborn.axisgrid.JointGrid at 0x215a9cd4a60>"
      ]
     },
     "execution_count": 35,
     "metadata": {},
     "output_type": "execute_result"
    },
    {
     "data": {
      "image/png": "[encoded data removed]",
      "text/plain": [
       "<Figure size 600x600 with 3 Axes>"
      ]
     },
     "metadata": {},
     "output_type": "display_data"
    }
   ],
   "source": [
    "sns.jointplot(df.price,df.parking)"
   ]
  },
  {
   "cell_type": "code",
   "execution_count": 36,
   "id": "29839261",
   "metadata": {},
   "outputs": [
    {
     "data": {
      "text/plain": [
       "<seaborn.axisgrid.PairGrid at 0x215aa62ac40>"
      ]
     },
     "execution_count": 36,
     "metadata": {},
     "output_type": "execute_result"
    },
    {
     "data": {
      "image/png": "[encoded data removed]",
      "text/plain": [
       "<Figure size 1500x1500 with 42 Axes>"
      ]
     },
     "metadata": {},
     "output_type": "display_data"
    }
   ],
   "source": [
    "sns.pairplot(df)"
   ]
  },
  {
   "cell_type": "markdown",
   "id": "2704dbb0",
   "metadata": {},
   "source": [
    "Descriptive Statistics"
   ]
  },
  {
   "cell_type": "code",
   "execution_count": 37,
   "id": "b35d83f8",
   "metadata": {},
   "outputs": [
    {
     "name": "stderr",
     "output_type": "stream",
     "text": [
      "C:\\Users\\Sriya\\AppData\\Local\\Temp\\ipykernel_26872\\1221912073.py:2: FutureWarning: Dropping of nuisance columns in DataFrame reductions (with 'numeric_only=None') is deprecated; in a future version this will raise TypeError.  Select only valid columns before calling the reduction.\n",
      "  df.mean()\n"
     ]
    },
    {
     "data": {
      "text/plain": [
       "price        4.766729e+06\n",
       "area         5.150541e+03\n",
       "bedrooms     2.965138e+00\n",
       "bathrooms    1.286239e+00\n",
       "stories      1.805505e+00\n",
       "parking      6.935780e-01\n",
       "dtype: float64"
      ]
     },
     "execution_count": 37,
     "metadata": {},
     "output_type": "execute_result"
    }
   ],
   "source": [
    "#Mesure of Central Tendency\n",
    "df.mean()"
   ]
  },
  {
   "cell_type": "code",
   "execution_count": 38,
   "id": "7f22c9e1",
   "metadata": {},
   "outputs": [
    {
     "data": {
      "text/html": [
       "<div>\n",
       "<style scoped>\n",
       "    .dataframe tbody tr th:only-of-type {\n",
       "        vertical-align: middle;\n",
       "    }\n",
       "\n",
       "    .dataframe tbody tr th {\n",
       "        vertical-align: top;\n",
       "    }\n",
       "\n",
       "    .dataframe thead th {\n",
       "        text-align: right;\n",
       "    }\n",
       "</style>\n",
       "<table border=\"1\" class=\"dataframe\">\n",
       "  <thead>\n",
       "    <tr style=\"text-align: right;\">\n",
       "      <th></th>\n",
       "      <th>price</th>\n",
       "      <th>area</th>\n",
       "      <th>bedrooms</th>\n",
       "      <th>bathrooms</th>\n",
       "      <th>stories</th>\n",
       "      <th>mainroad</th>\n",
       "      <th>guestroom</th>\n",
       "      <th>basement</th>\n",
       "      <th>hotwaterheating</th>\n",
       "      <th>airconditioning</th>\n",
       "      <th>parking</th>\n",
       "      <th>furnishingstatus</th>\n",
       "    </tr>\n",
       "  </thead>\n",
       "  <tbody>\n",
       "    <tr>\n",
       "      <th>0</th>\n",
       "      <td>3500000</td>\n",
       "      <td>6000.0</td>\n",
       "      <td>3.0</td>\n",
       "      <td>1.0</td>\n",
       "      <td>2.0</td>\n",
       "      <td>yes</td>\n",
       "      <td>no</td>\n",
       "      <td>no</td>\n",
       "      <td>no</td>\n",
       "      <td>no</td>\n",
       "      <td>0.0</td>\n",
       "      <td>semi-furnished</td>\n",
       "    </tr>\n",
       "    <tr>\n",
       "      <th>1</th>\n",
       "      <td>4200000</td>\n",
       "      <td>NaN</td>\n",
       "      <td>NaN</td>\n",
       "      <td>NaN</td>\n",
       "      <td>NaN</td>\n",
       "      <td>NaN</td>\n",
       "      <td>NaN</td>\n",
       "      <td>NaN</td>\n",
       "      <td>NaN</td>\n",
       "      <td>NaN</td>\n",
       "      <td>NaN</td>\n",
       "      <td>NaN</td>\n",
       "    </tr>\n",
       "  </tbody>\n",
       "</table>\n",
       "</div>"
      ],
      "text/plain": [
       "     price    area  bedrooms  bathrooms  stories mainroad guestroom basement  \\\n",
       "0  3500000  6000.0       3.0        1.0      2.0      yes        no       no   \n",
       "1  4200000     NaN       NaN        NaN      NaN      NaN       NaN      NaN   \n",
       "\n",
       "  hotwaterheating airconditioning  parking furnishingstatus  \n",
       "0              no              no      0.0   semi-furnished  \n",
       "1             NaN             NaN      NaN              NaN  "
      ]
     },
     "execution_count": 38,
     "metadata": {},
     "output_type": "execute_result"
    }
   ],
   "source": [
    "df.mode()"
   ]
  },
  {
   "cell_type": "code",
   "execution_count": 39,
   "id": "5b058b3f",
   "metadata": {},
   "outputs": [
    {
     "name": "stderr",
     "output_type": "stream",
     "text": [
      "C:\\Users\\Sriya\\AppData\\Local\\Temp\\ipykernel_26872\\530051474.py:1: FutureWarning: Dropping of nuisance columns in DataFrame reductions (with 'numeric_only=None') is deprecated; in a future version this will raise TypeError.  Select only valid columns before calling the reduction.\n",
      "  df.median()\n"
     ]
    },
    {
     "data": {
      "text/plain": [
       "price        4340000.0\n",
       "area            4600.0\n",
       "bedrooms           3.0\n",
       "bathrooms          1.0\n",
       "stories            2.0\n",
       "parking            0.0\n",
       "dtype: float64"
      ]
     },
     "execution_count": 39,
     "metadata": {},
     "output_type": "execute_result"
    }
   ],
   "source": [
    "df.median()"
   ]
  },
  {
   "cell_type": "code",
   "execution_count": 40,
   "id": "d4687f2b",
   "metadata": {},
   "outputs": [
    {
     "name": "stderr",
     "output_type": "stream",
     "text": [
      "C:\\Users\\Sriya\\AppData\\Local\\Temp\\ipykernel_26872\\1665899112.py:1: FutureWarning: Dropping of nuisance columns in DataFrame reductions (with 'numeric_only=None') is deprecated; in a future version this will raise TypeError.  Select only valid columns before calling the reduction.\n",
      "  df.skew()\n"
     ]
    },
    {
     "data": {
      "text/plain": [
       "price        1.212239\n",
       "area         1.321188\n",
       "bedrooms     0.495684\n",
       "bathrooms    1.589264\n",
       "stories      1.082088\n",
       "parking      0.842062\n",
       "dtype: float64"
      ]
     },
     "execution_count": 40,
     "metadata": {},
     "output_type": "execute_result"
    }
   ],
   "source": [
    "df.skew()"
   ]
  },
  {
   "cell_type": "code",
   "execution_count": 42,
   "id": "c92554bf",
   "metadata": {},
   "outputs": [
    {
     "name": "stdout",
     "output_type": "stream",
     "text": [
      "AxesSubplot(0.125,0.11;0.775x0.77)\n"
     ]
    },
    {
     "name": "stderr",
     "output_type": "stream",
     "text": [
      "C:\\Users\\Sriya\\anaconda3\\lib\\site-packages\\seaborn\\distributions.py:2619: FutureWarning: `distplot` is a deprecated function and will be removed in a future version. Please adapt your code to use either `displot` (a figure-level function with similar flexibility) or `histplot` (an axes-level function for histograms).\n",
      "  warnings.warn(msg, FutureWarning)\n"
     ]
    },
    {
     "data": {
      "image/png": "[encoded data removed]",
      "text/plain": [
       "<Figure size 640x480 with 1 Axes>"
      ]
     },
     "metadata": {},
     "output_type": "display_data"
    }
   ],
   "source": [
    "print(sns.distplot(df['area'],color='blue'))"
   ]
  },
  {
   "cell_type": "code",
   "execution_count": 43,
   "id": "f99cd39d",
   "metadata": {},
   "outputs": [
    {
     "name": "stdout",
     "output_type": "stream",
     "text": [
      "AxesSubplot(0.125,0.11;0.775x0.77)\n"
     ]
    },
    {
     "name": "stderr",
     "output_type": "stream",
     "text": [
      "C:\\Users\\Sriya\\anaconda3\\lib\\site-packages\\seaborn\\distributions.py:2619: FutureWarning: `distplot` is a deprecated function and will be removed in a future version. Please adapt your code to use either `displot` (a figure-level function with similar flexibility) or `histplot` (an axes-level function for histograms).\n",
      "  warnings.warn(msg, FutureWarning)\n"
     ]
    },
    {
     "data": {
      "image/png": "[encoded data removed]",
      "text/plain": [
       "<Figure size 640x480 with 1 Axes>"
      ]
     },
     "metadata": {},
     "output_type": "display_data"
    }
   ],
   "source": [
    "print(sns.distplot(df['price'],color='red'))"
   ]
  },
  {
   "cell_type": "code",
   "execution_count": 44,
   "id": "5ff17aad",
   "metadata": {},
   "outputs": [
    {
     "name": "stderr",
     "output_type": "stream",
     "text": [
      "C:\\Users\\Sriya\\AppData\\Local\\Temp\\ipykernel_26872\\1257127604.py:1: FutureWarning: Dropping of nuisance columns in DataFrame reductions (with 'numeric_only=None') is deprecated; in a future version this will raise TypeError.  Select only valid columns before calling the reduction.\n",
      "  df.kurt()\n"
     ]
    },
    {
     "data": {
      "text/plain": [
       "price        1.960130\n",
       "area         2.751480\n",
       "bedrooms     0.728323\n",
       "bathrooms    2.164856\n",
       "stories      0.679404\n",
       "parking     -0.573063\n",
       "dtype: float64"
      ]
     },
     "execution_count": 44,
     "metadata": {},
     "output_type": "execute_result"
    }
   ],
   "source": [
    "df.kurt()"
   ]
  },
  {
   "cell_type": "code",
   "execution_count": 48,
   "id": "91eaa05d",
   "metadata": {},
   "outputs": [
    {
     "data": {
      "text/plain": [
       "price                  13300000\n",
       "area                      16200\n",
       "bedrooms                      6\n",
       "bathrooms                     4\n",
       "stories                       4\n",
       "mainroad                    yes\n",
       "guestroom                   yes\n",
       "basement                    yes\n",
       "hotwaterheating             yes\n",
       "airconditioning             yes\n",
       "parking                       3\n",
       "furnishingstatus    unfurnished\n",
       "dtype: object"
      ]
     },
     "execution_count": 48,
     "metadata": {},
     "output_type": "execute_result"
    }
   ],
   "source": [
    "df.max()"
   ]
  },
  {
   "cell_type": "code",
   "execution_count": 49,
   "id": "e0f56ad7",
   "metadata": {},
   "outputs": [
    {
     "data": {
      "text/plain": [
       "price                 1750000\n",
       "area                     1650\n",
       "bedrooms                    1\n",
       "bathrooms                   1\n",
       "stories                     1\n",
       "mainroad                   no\n",
       "guestroom                  no\n",
       "basement                   no\n",
       "hotwaterheating            no\n",
       "airconditioning            no\n",
       "parking                     0\n",
       "furnishingstatus    furnished\n",
       "dtype: object"
      ]
     },
     "execution_count": 49,
     "metadata": {},
     "output_type": "execute_result"
    }
   ],
   "source": [
    "df.min()"
   ]
  },
  {
   "cell_type": "code",
   "execution_count": 56,
   "id": "065d4833",
   "metadata": {},
   "outputs": [
    {
     "data": {
      "text/plain": [
       "14550"
      ]
     },
     "execution_count": 56,
     "metadata": {},
     "output_type": "execute_result"
    }
   ],
   "source": [
    "range=max(df.area)-min(df.area)\n",
    "range"
   ]
  },
  {
   "cell_type": "code",
   "execution_count": 57,
   "id": "403dcc98",
   "metadata": {},
   "outputs": [
    {
     "data": {
      "text/html": [
       "<div>\n",
       "<style scoped>\n",
       "    .dataframe tbody tr th:only-of-type {\n",
       "        vertical-align: middle;\n",
       "    }\n",
       "\n",
       "    .dataframe tbody tr th {\n",
       "        vertical-align: top;\n",
       "    }\n",
       "\n",
       "    .dataframe thead th {\n",
       "        text-align: right;\n",
       "    }\n",
       "</style>\n",
       "<table border=\"1\" class=\"dataframe\">\n",
       "  <thead>\n",
       "    <tr style=\"text-align: right;\">\n",
       "      <th></th>\n",
       "      <th>price</th>\n",
       "      <th>area</th>\n",
       "      <th>bedrooms</th>\n",
       "      <th>bathrooms</th>\n",
       "      <th>stories</th>\n",
       "      <th>parking</th>\n",
       "    </tr>\n",
       "  </thead>\n",
       "  <tbody>\n",
       "    <tr>\n",
       "      <th>0.75</th>\n",
       "      <td>5740000.0</td>\n",
       "      <td>6360.0</td>\n",
       "      <td>3.0</td>\n",
       "      <td>2.0</td>\n",
       "      <td>2.0</td>\n",
       "      <td>1.0</td>\n",
       "    </tr>\n",
       "    <tr>\n",
       "      <th>0.25</th>\n",
       "      <td>3430000.0</td>\n",
       "      <td>3600.0</td>\n",
       "      <td>2.0</td>\n",
       "      <td>1.0</td>\n",
       "      <td>1.0</td>\n",
       "      <td>0.0</td>\n",
       "    </tr>\n",
       "  </tbody>\n",
       "</table>\n",
       "</div>"
      ],
      "text/plain": [
       "          price    area  bedrooms  bathrooms  stories  parking\n",
       "0.75  5740000.0  6360.0       3.0        2.0      2.0      1.0\n",
       "0.25  3430000.0  3600.0       2.0        1.0      1.0      0.0"
      ]
     },
     "execution_count": 57,
     "metadata": {},
     "output_type": "execute_result"
    }
   ],
   "source": [
    "quan=df.quantile(q=[0.75,0.25])\n",
    "quan"
   ]
  },
  {
   "cell_type": "code",
   "execution_count": 58,
   "id": "85f9bb88",
   "metadata": {},
   "outputs": [
    {
     "data": {
      "text/plain": [
       "price        5740000.0\n",
       "area            6360.0\n",
       "bedrooms           3.0\n",
       "bathrooms          2.0\n",
       "stories            2.0\n",
       "parking            1.0\n",
       "Name: 0.75, dtype: float64"
      ]
     },
     "execution_count": 58,
     "metadata": {},
     "output_type": "execute_result"
    }
   ],
   "source": [
    "quan.iloc[0]"
   ]
  },
  {
   "cell_type": "code",
   "execution_count": 59,
   "id": "1fcf02a0",
   "metadata": {},
   "outputs": [
    {
     "data": {
      "text/plain": [
       "price        3430000.0\n",
       "area            3600.0\n",
       "bedrooms           2.0\n",
       "bathrooms          1.0\n",
       "stories            1.0\n",
       "parking            0.0\n",
       "Name: 0.25, dtype: float64"
      ]
     },
     "execution_count": 59,
     "metadata": {},
     "output_type": "execute_result"
    }
   ],
   "source": [
    "quan.iloc[1]"
   ]
  },
  {
   "cell_type": "code",
   "execution_count": 60,
   "id": "56c262f4",
   "metadata": {},
   "outputs": [
    {
     "data": {
      "text/plain": [
       "price        2310000.0\n",
       "area            2760.0\n",
       "bedrooms           1.0\n",
       "bathrooms          1.0\n",
       "stories            1.0\n",
       "parking            1.0\n",
       "dtype: float64"
      ]
     },
     "execution_count": 60,
     "metadata": {},
     "output_type": "execute_result"
    }
   ],
   "source": [
    "IQR=quan.iloc[0]-quan.iloc[1]\n",
    "IQR"
   ]
  },
  {
   "cell_type": "code",
   "execution_count": 61,
   "id": "7adcb28e",
   "metadata": {},
   "outputs": [
    {
     "data": {
      "text/plain": [
       "price        9205000.0\n",
       "area           10500.0\n",
       "bedrooms           4.5\n",
       "bathrooms          3.5\n",
       "stories            3.5\n",
       "parking            2.5\n",
       "dtype: float64"
      ]
     },
     "execution_count": 61,
     "metadata": {},
     "output_type": "execute_result"
    }
   ],
   "source": [
    "uex=quan.iloc[0]+(1.5*IQR)\n",
    "uex"
   ]
  },
  {
   "cell_type": "code",
   "execution_count": 62,
   "id": "03c1478b",
   "metadata": {},
   "outputs": [
    {
     "data": {
      "text/plain": [
       "price       -35000.0\n",
       "area          -540.0\n",
       "bedrooms         0.5\n",
       "bathrooms       -0.5\n",
       "stories         -0.5\n",
       "parking         -1.5\n",
       "dtype: float64"
      ]
     },
     "execution_count": 62,
     "metadata": {},
     "output_type": "execute_result"
    }
   ],
   "source": [
    "lex=quan.iloc[1]-(1.5*IQR)\n",
    "lex"
   ]
  },
  {
   "cell_type": "code",
   "execution_count": 63,
   "id": "bf0a8bf8",
   "metadata": {},
   "outputs": [
    {
     "name": "stderr",
     "output_type": "stream",
     "text": [
      "C:\\Users\\Sriya\\AppData\\Local\\Temp\\ipykernel_26872\\1568254755.py:1: FutureWarning: Dropping of nuisance columns in DataFrame reductions (with 'numeric_only=None') is deprecated; in a future version this will raise TypeError.  Select only valid columns before calling the reduction.\n",
      "  df.var()\n"
     ]
    },
    {
     "data": {
      "text/plain": [
       "price        3.498544e+12\n",
       "area         4.709512e+06\n",
       "bedrooms     5.447383e-01\n",
       "bathrooms    2.524757e-01\n",
       "stories      7.525432e-01\n",
       "parking      7.423300e-01\n",
       "dtype: float64"
      ]
     },
     "execution_count": 63,
     "metadata": {},
     "output_type": "execute_result"
    }
   ],
   "source": [
    "df.var()"
   ]
  },
  {
   "cell_type": "code",
   "execution_count": 64,
   "id": "7336a210",
   "metadata": {},
   "outputs": [
    {
     "name": "stderr",
     "output_type": "stream",
     "text": [
      "C:\\Users\\Sriya\\AppData\\Local\\Temp\\ipykernel_26872\\3390915376.py:1: FutureWarning: Dropping of nuisance columns in DataFrame reductions (with 'numeric_only=None') is deprecated; in a future version this will raise TypeError.  Select only valid columns before calling the reduction.\n",
      "  df.std()\n"
     ]
    },
    {
     "data": {
      "text/plain": [
       "price        1.870440e+06\n",
       "area         2.170141e+03\n",
       "bedrooms     7.380639e-01\n",
       "bathrooms    5.024696e-01\n",
       "stories      8.674925e-01\n",
       "parking      8.615858e-01\n",
       "dtype: float64"
      ]
     },
     "execution_count": 64,
     "metadata": {},
     "output_type": "execute_result"
    }
   ],
   "source": [
    "df.std()"
   ]
  },
  {
   "cell_type": "markdown",
   "id": "f6407c49",
   "metadata": {},
   "source": [
    "Handle Missing Values"
   ]
  },
  {
   "cell_type": "code",
   "execution_count": 65,
   "id": "7e8a7c29",
   "metadata": {},
   "outputs": [
    {
     "data": {
      "text/plain": [
       "Index(['price', 'area', 'bedrooms', 'bathrooms', 'stories', 'mainroad',\n",
       "       'guestroom', 'basement', 'hotwaterheating', 'airconditioning',\n",
       "       'parking', 'furnishingstatus'],\n",
       "      dtype='object')"
      ]
     },
     "execution_count": 65,
     "metadata": {},
     "output_type": "execute_result"
    }
   ],
   "source": [
    "df.columns"
   ]
  },
  {
   "cell_type": "code",
   "execution_count": 66,
   "id": "1e95fa7a",
   "metadata": {},
   "outputs": [
    {
     "data": {
      "text/plain": [
       "price                int64\n",
       "area                 int64\n",
       "bedrooms             int64\n",
       "bathrooms            int64\n",
       "stories              int64\n",
       "mainroad            object\n",
       "guestroom           object\n",
       "basement            object\n",
       "hotwaterheating     object\n",
       "airconditioning     object\n",
       "parking              int64\n",
       "furnishingstatus    object\n",
       "dtype: object"
      ]
     },
     "execution_count": 66,
     "metadata": {},
     "output_type": "execute_result"
    }
   ],
   "source": [
    "df.dtypes"
   ]
  },
  {
   "cell_type": "code",
   "execution_count": 67,
   "id": "6a8bd6b0",
   "metadata": {},
   "outputs": [
    {
     "data": {
      "text/html": [
       "<div>\n",
       "<style scoped>\n",
       "    .dataframe tbody tr th:only-of-type {\n",
       "        vertical-align: middle;\n",
       "    }\n",
       "\n",
       "    .dataframe tbody tr th {\n",
       "        vertical-align: top;\n",
       "    }\n",
       "\n",
       "    .dataframe thead th {\n",
       "        text-align: right;\n",
       "    }\n",
       "</style>\n",
       "<table border=\"1\" class=\"dataframe\">\n",
       "  <thead>\n",
       "    <tr style=\"text-align: right;\">\n",
       "      <th></th>\n",
       "      <th>price</th>\n",
       "      <th>area</th>\n",
       "      <th>bedrooms</th>\n",
       "      <th>bathrooms</th>\n",
       "      <th>stories</th>\n",
       "      <th>parking</th>\n",
       "    </tr>\n",
       "  </thead>\n",
       "  <tbody>\n",
       "    <tr>\n",
       "      <th>count</th>\n",
       "      <td>5.450000e+02</td>\n",
       "      <td>545.000000</td>\n",
       "      <td>545.000000</td>\n",
       "      <td>545.000000</td>\n",
       "      <td>545.000000</td>\n",
       "      <td>545.000000</td>\n",
       "    </tr>\n",
       "    <tr>\n",
       "      <th>mean</th>\n",
       "      <td>4.766729e+06</td>\n",
       "      <td>5150.541284</td>\n",
       "      <td>2.965138</td>\n",
       "      <td>1.286239</td>\n",
       "      <td>1.805505</td>\n",
       "      <td>0.693578</td>\n",
       "    </tr>\n",
       "    <tr>\n",
       "      <th>std</th>\n",
       "      <td>1.870440e+06</td>\n",
       "      <td>2170.141023</td>\n",
       "      <td>0.738064</td>\n",
       "      <td>0.502470</td>\n",
       "      <td>0.867492</td>\n",
       "      <td>0.861586</td>\n",
       "    </tr>\n",
       "    <tr>\n",
       "      <th>min</th>\n",
       "      <td>1.750000e+06</td>\n",
       "      <td>1650.000000</td>\n",
       "      <td>1.000000</td>\n",
       "      <td>1.000000</td>\n",
       "      <td>1.000000</td>\n",
       "      <td>0.000000</td>\n",
       "    </tr>\n",
       "    <tr>\n",
       "      <th>25%</th>\n",
       "      <td>3.430000e+06</td>\n",
       "      <td>3600.000000</td>\n",
       "      <td>2.000000</td>\n",
       "      <td>1.000000</td>\n",
       "      <td>1.000000</td>\n",
       "      <td>0.000000</td>\n",
       "    </tr>\n",
       "    <tr>\n",
       "      <th>50%</th>\n",
       "      <td>4.340000e+06</td>\n",
       "      <td>4600.000000</td>\n",
       "      <td>3.000000</td>\n",
       "      <td>1.000000</td>\n",
       "      <td>2.000000</td>\n",
       "      <td>0.000000</td>\n",
       "    </tr>\n",
       "    <tr>\n",
       "      <th>75%</th>\n",
       "      <td>5.740000e+06</td>\n",
       "      <td>6360.000000</td>\n",
       "      <td>3.000000</td>\n",
       "      <td>2.000000</td>\n",
       "      <td>2.000000</td>\n",
       "      <td>1.000000</td>\n",
       "    </tr>\n",
       "    <tr>\n",
       "      <th>max</th>\n",
       "      <td>1.330000e+07</td>\n",
       "      <td>16200.000000</td>\n",
       "      <td>6.000000</td>\n",
       "      <td>4.000000</td>\n",
       "      <td>4.000000</td>\n",
       "      <td>3.000000</td>\n",
       "    </tr>\n",
       "  </tbody>\n",
       "</table>\n",
       "</div>"
      ],
      "text/plain": [
       "              price          area    bedrooms   bathrooms     stories  \\\n",
       "count  5.450000e+02    545.000000  545.000000  545.000000  545.000000   \n",
       "mean   4.766729e+06   5150.541284    2.965138    1.286239    1.805505   \n",
       "std    1.870440e+06   2170.141023    0.738064    0.502470    0.867492   \n",
       "min    1.750000e+06   1650.000000    1.000000    1.000000    1.000000   \n",
       "25%    3.430000e+06   3600.000000    2.000000    1.000000    1.000000   \n",
       "50%    4.340000e+06   4600.000000    3.000000    1.000000    2.000000   \n",
       "75%    5.740000e+06   6360.000000    3.000000    2.000000    2.000000   \n",
       "max    1.330000e+07  16200.000000    6.000000    4.000000    4.000000   \n",
       "\n",
       "          parking  \n",
       "count  545.000000  \n",
       "mean     0.693578  \n",
       "std      0.861586  \n",
       "min      0.000000  \n",
       "25%      0.000000  \n",
       "50%      0.000000  \n",
       "75%      1.000000  \n",
       "max      3.000000  "
      ]
     },
     "execution_count": 67,
     "metadata": {},
     "output_type": "execute_result"
    }
   ],
   "source": [
    "df.describe()"
   ]
  },
  {
   "cell_type": "code",
   "execution_count": 68,
   "id": "dd883bb4",
   "metadata": {},
   "outputs": [
    {
     "data": {
      "text/html": [
       "<div>\n",
       "<style scoped>\n",
       "    .dataframe tbody tr th:only-of-type {\n",
       "        vertical-align: middle;\n",
       "    }\n",
       "\n",
       "    .dataframe tbody tr th {\n",
       "        vertical-align: top;\n",
       "    }\n",
       "\n",
       "    .dataframe thead th {\n",
       "        text-align: right;\n",
       "    }\n",
       "</style>\n",
       "<table border=\"1\" class=\"dataframe\">\n",
       "  <thead>\n",
       "    <tr style=\"text-align: right;\">\n",
       "      <th></th>\n",
       "      <th>price</th>\n",
       "      <th>area</th>\n",
       "      <th>bedrooms</th>\n",
       "      <th>bathrooms</th>\n",
       "      <th>stories</th>\n",
       "      <th>mainroad</th>\n",
       "      <th>guestroom</th>\n",
       "      <th>basement</th>\n",
       "      <th>hotwaterheating</th>\n",
       "      <th>airconditioning</th>\n",
       "      <th>parking</th>\n",
       "      <th>furnishingstatus</th>\n",
       "    </tr>\n",
       "  </thead>\n",
       "  <tbody>\n",
       "    <tr>\n",
       "      <th>0</th>\n",
       "      <td>False</td>\n",
       "      <td>False</td>\n",
       "      <td>False</td>\n",
       "      <td>False</td>\n",
       "      <td>False</td>\n",
       "      <td>False</td>\n",
       "      <td>False</td>\n",
       "      <td>False</td>\n",
       "      <td>False</td>\n",
       "      <td>False</td>\n",
       "      <td>False</td>\n",
       "      <td>False</td>\n",
       "    </tr>\n",
       "    <tr>\n",
       "      <th>1</th>\n",
       "      <td>False</td>\n",
       "      <td>False</td>\n",
       "      <td>False</td>\n",
       "      <td>False</td>\n",
       "      <td>False</td>\n",
       "      <td>False</td>\n",
       "      <td>False</td>\n",
       "      <td>False</td>\n",
       "      <td>False</td>\n",
       "      <td>False</td>\n",
       "      <td>False</td>\n",
       "      <td>False</td>\n",
       "    </tr>\n",
       "    <tr>\n",
       "      <th>2</th>\n",
       "      <td>False</td>\n",
       "      <td>False</td>\n",
       "      <td>False</td>\n",
       "      <td>False</td>\n",
       "      <td>False</td>\n",
       "      <td>False</td>\n",
       "      <td>False</td>\n",
       "      <td>False</td>\n",
       "      <td>False</td>\n",
       "      <td>False</td>\n",
       "      <td>False</td>\n",
       "      <td>False</td>\n",
       "    </tr>\n",
       "    <tr>\n",
       "      <th>3</th>\n",
       "      <td>False</td>\n",
       "      <td>False</td>\n",
       "      <td>False</td>\n",
       "      <td>False</td>\n",
       "      <td>False</td>\n",
       "      <td>False</td>\n",
       "      <td>False</td>\n",
       "      <td>False</td>\n",
       "      <td>False</td>\n",
       "      <td>False</td>\n",
       "      <td>False</td>\n",
       "      <td>False</td>\n",
       "    </tr>\n",
       "    <tr>\n",
       "      <th>4</th>\n",
       "      <td>False</td>\n",
       "      <td>False</td>\n",
       "      <td>False</td>\n",
       "      <td>False</td>\n",
       "      <td>False</td>\n",
       "      <td>False</td>\n",
       "      <td>False</td>\n",
       "      <td>False</td>\n",
       "      <td>False</td>\n",
       "      <td>False</td>\n",
       "      <td>False</td>\n",
       "      <td>False</td>\n",
       "    </tr>\n",
       "    <tr>\n",
       "      <th>...</th>\n",
       "      <td>...</td>\n",
       "      <td>...</td>\n",
       "      <td>...</td>\n",
       "      <td>...</td>\n",
       "      <td>...</td>\n",
       "      <td>...</td>\n",
       "      <td>...</td>\n",
       "      <td>...</td>\n",
       "      <td>...</td>\n",
       "      <td>...</td>\n",
       "      <td>...</td>\n",
       "      <td>...</td>\n",
       "    </tr>\n",
       "    <tr>\n",
       "      <th>540</th>\n",
       "      <td>False</td>\n",
       "      <td>False</td>\n",
       "      <td>False</td>\n",
       "      <td>False</td>\n",
       "      <td>False</td>\n",
       "      <td>False</td>\n",
       "      <td>False</td>\n",
       "      <td>False</td>\n",
       "      <td>False</td>\n",
       "      <td>False</td>\n",
       "      <td>False</td>\n",
       "      <td>False</td>\n",
       "    </tr>\n",
       "    <tr>\n",
       "      <th>541</th>\n",
       "      <td>False</td>\n",
       "      <td>False</td>\n",
       "      <td>False</td>\n",
       "      <td>False</td>\n",
       "      <td>False</td>\n",
       "      <td>False</td>\n",
       "      <td>False</td>\n",
       "      <td>False</td>\n",
       "      <td>False</td>\n",
       "      <td>False</td>\n",
       "      <td>False</td>\n",
       "      <td>False</td>\n",
       "    </tr>\n",
       "    <tr>\n",
       "      <th>542</th>\n",
       "      <td>False</td>\n",
       "      <td>False</td>\n",
       "      <td>False</td>\n",
       "      <td>False</td>\n",
       "      <td>False</td>\n",
       "      <td>False</td>\n",
       "      <td>False</td>\n",
       "      <td>False</td>\n",
       "      <td>False</td>\n",
       "      <td>False</td>\n",
       "      <td>False</td>\n",
       "      <td>False</td>\n",
       "    </tr>\n",
       "    <tr>\n",
       "      <th>543</th>\n",
       "      <td>False</td>\n",
       "      <td>False</td>\n",
       "      <td>False</td>\n",
       "      <td>False</td>\n",
       "      <td>False</td>\n",
       "      <td>False</td>\n",
       "      <td>False</td>\n",
       "      <td>False</td>\n",
       "      <td>False</td>\n",
       "      <td>False</td>\n",
       "      <td>False</td>\n",
       "      <td>False</td>\n",
       "    </tr>\n",
       "    <tr>\n",
       "      <th>544</th>\n",
       "      <td>False</td>\n",
       "      <td>False</td>\n",
       "      <td>False</td>\n",
       "      <td>False</td>\n",
       "      <td>False</td>\n",
       "      <td>False</td>\n",
       "      <td>False</td>\n",
       "      <td>False</td>\n",
       "      <td>False</td>\n",
       "      <td>False</td>\n",
       "      <td>False</td>\n",
       "      <td>False</td>\n",
       "    </tr>\n",
       "  </tbody>\n",
       "</table>\n",
       "<p>545 rows × 12 columns</p>\n",
       "</div>"
      ],
      "text/plain": [
       "     price   area  bedrooms  bathrooms  stories  mainroad  guestroom  \\\n",
       "0    False  False     False      False    False     False      False   \n",
       "1    False  False     False      False    False     False      False   \n",
       "2    False  False     False      False    False     False      False   \n",
       "3    False  False     False      False    False     False      False   \n",
       "4    False  False     False      False    False     False      False   \n",
       "..     ...    ...       ...        ...      ...       ...        ...   \n",
       "540  False  False     False      False    False     False      False   \n",
       "541  False  False     False      False    False     False      False   \n",
       "542  False  False     False      False    False     False      False   \n",
       "543  False  False     False      False    False     False      False   \n",
       "544  False  False     False      False    False     False      False   \n",
       "\n",
       "     basement  hotwaterheating  airconditioning  parking  furnishingstatus  \n",
       "0       False            False            False    False             False  \n",
       "1       False            False            False    False             False  \n",
       "2       False            False            False    False             False  \n",
       "3       False            False            False    False             False  \n",
       "4       False            False            False    False             False  \n",
       "..        ...              ...              ...      ...               ...  \n",
       "540     False            False            False    False             False  \n",
       "541     False            False            False    False             False  \n",
       "542     False            False            False    False             False  \n",
       "543     False            False            False    False             False  \n",
       "544     False            False            False    False             False  \n",
       "\n",
       "[545 rows x 12 columns]"
      ]
     },
     "execution_count": 68,
     "metadata": {},
     "output_type": "execute_result"
    }
   ],
   "source": [
    "df.isna()"
   ]
  },
  {
   "cell_type": "code",
   "execution_count": 69,
   "id": "b605d76d",
   "metadata": {},
   "outputs": [
    {
     "data": {
      "text/plain": [
       "price               False\n",
       "area                False\n",
       "bedrooms            False\n",
       "bathrooms           False\n",
       "stories             False\n",
       "mainroad            False\n",
       "guestroom           False\n",
       "basement            False\n",
       "hotwaterheating     False\n",
       "airconditioning     False\n",
       "parking             False\n",
       "furnishingstatus    False\n",
       "dtype: bool"
      ]
     },
     "execution_count": 69,
     "metadata": {},
     "output_type": "execute_result"
    }
   ],
   "source": [
    "df.isnull().any()"
   ]
  },
  {
   "cell_type": "code",
   "execution_count": 70,
   "id": "dc698bd1",
   "metadata": {},
   "outputs": [
    {
     "data": {
      "text/plain": [
       "price               0\n",
       "area                0\n",
       "bedrooms            0\n",
       "bathrooms           0\n",
       "stories             0\n",
       "mainroad            0\n",
       "guestroom           0\n",
       "basement            0\n",
       "hotwaterheating     0\n",
       "airconditioning     0\n",
       "parking             0\n",
       "furnishingstatus    0\n",
       "dtype: int64"
      ]
     },
     "execution_count": 70,
     "metadata": {},
     "output_type": "execute_result"
    }
   ],
   "source": [
    "df.isnull().sum()"
   ]
  },
  {
   "cell_type": "markdown",
   "id": "ef0f083f",
   "metadata": {},
   "source": [
    "Find the outliers and replace the outliers"
   ]
  },
  {
   "cell_type": "code",
   "execution_count": 90,
   "id": "4f298237",
   "metadata": {},
   "outputs": [
    {
     "name": "stderr",
     "output_type": "stream",
     "text": [
      "C:\\Users\\Sriya\\anaconda3\\lib\\site-packages\\seaborn\\_decorators.py:36: FutureWarning: Pass the following variable as a keyword arg: x. From version 0.12, the only valid positional argument will be `data`, and passing other arguments without an explicit keyword will result in an error or misinterpretation.\n",
      "  warnings.warn(\n"
     ]
    },
    {
     "data": {
      "text/plain": [
       "<AxesSubplot:xlabel='area'>"
      ]
     },
     "execution_count": 90,
     "metadata": {},
     "output_type": "execute_result"
    },
    {
     "data": {
      "image/png": "[encoded data removed]",
      "text/plain": [
       "<Figure size 640x480 with 1 Axes>"
      ]
     },
     "metadata": {},
     "output_type": "display_data"
    }
   ],
   "source": [
    "sns.boxplot(df.area)"
   ]
  },
  {
   "cell_type": "code",
   "execution_count": 57,
   "id": "335fb710",
   "metadata": {},
   "outputs": [],
   "source": [
    "Q1 = df['area'].quantile(0.25)\n",
    "Q3 = df['area'].quantile(0.75)\n",
    "IQR = Q3 - Q1\n",
    "whisker_width = 1.5\n",
    "lower_whisker = Q1 -(whisker_width*IQR)\n",
    "upper_whisker = Q3 + (whisker_width*IQR)\n",
    "df['area']=np.where(df['area']>upper_whisker,upper_whisker,np.where(df['area']<lower_whisker,lower_whisker,df['area']))"
   ]
  },
  {
   "cell_type": "code",
   "execution_count": 58,
   "id": "e2d7df04",
   "metadata": {},
   "outputs": [
    {
     "name": "stderr",
     "output_type": "stream",
     "text": [
      "C:\\Users\\Sriya\\anaconda3\\lib\\site-packages\\seaborn\\_decorators.py:36: FutureWarning: Pass the following variable as a keyword arg: x. From version 0.12, the only valid positional argument will be `data`, and passing other arguments without an explicit keyword will result in an error or misinterpretation.\n",
      "  warnings.warn(\n"
     ]
    },
    {
     "data": {
      "text/plain": [
       "<AxesSubplot:xlabel='area'>"
      ]
     },
     "execution_count": 58,
     "metadata": {},
     "output_type": "execute_result"
    },
    {
     "data": {
      "image/png": "[encoded data removed]",
      "text/plain": [
       "<Figure size 640x480 with 1 Axes>"
      ]
     },
     "metadata": {},
     "output_type": "display_data"
    }
   ],
   "source": [
    "sns.boxplot(df.area)"
   ]
  },
  {
   "cell_type": "markdown",
   "id": "279fcff6",
   "metadata": {},
   "source": [
    "Check for Categorical columns and perform encoding"
   ]
  },
  {
   "cell_type": "code",
   "execution_count": 59,
   "id": "04290e6d",
   "metadata": {},
   "outputs": [],
   "source": [
    "from sklearn.preprocessing import LabelEncoder"
   ]
  },
  {
   "cell_type": "code",
   "execution_count": 60,
   "id": "7decba76",
   "metadata": {},
   "outputs": [],
   "source": [
    "le=LabelEncoder()"
   ]
  },
  {
   "cell_type": "code",
   "execution_count": 26,
   "id": "ddb09e7f",
   "metadata": {},
   "outputs": [
    {
     "data": {
      "text/html": [
       "<div>\n",
       "<style scoped>\n",
       "    .dataframe tbody tr th:only-of-type {\n",
       "        vertical-align: middle;\n",
       "    }\n",
       "\n",
       "    .dataframe tbody tr th {\n",
       "        vertical-align: top;\n",
       "    }\n",
       "\n",
       "    .dataframe thead th {\n",
       "        text-align: right;\n",
       "    }\n",
       "</style>\n",
       "<table border=\"1\" class=\"dataframe\">\n",
       "  <thead>\n",
       "    <tr style=\"text-align: right;\">\n",
       "      <th></th>\n",
       "      <th>price</th>\n",
       "      <th>area</th>\n",
       "      <th>bedrooms</th>\n",
       "      <th>bathrooms</th>\n",
       "      <th>stories</th>\n",
       "      <th>mainroad</th>\n",
       "      <th>guestroom</th>\n",
       "      <th>basement</th>\n",
       "      <th>hotwaterheating</th>\n",
       "      <th>airconditioning</th>\n",
       "      <th>parking</th>\n",
       "      <th>furnishingstatus</th>\n",
       "    </tr>\n",
       "  </thead>\n",
       "  <tbody>\n",
       "    <tr>\n",
       "      <th>0</th>\n",
       "      <td>13300000</td>\n",
       "      <td>7420.0</td>\n",
       "      <td>4</td>\n",
       "      <td>2</td>\n",
       "      <td>3</td>\n",
       "      <td>yes</td>\n",
       "      <td>no</td>\n",
       "      <td>no</td>\n",
       "      <td>no</td>\n",
       "      <td>yes</td>\n",
       "      <td>2</td>\n",
       "      <td>furnished</td>\n",
       "    </tr>\n",
       "    <tr>\n",
       "      <th>1</th>\n",
       "      <td>12250000</td>\n",
       "      <td>8960.0</td>\n",
       "      <td>4</td>\n",
       "      <td>4</td>\n",
       "      <td>4</td>\n",
       "      <td>yes</td>\n",
       "      <td>no</td>\n",
       "      <td>no</td>\n",
       "      <td>no</td>\n",
       "      <td>yes</td>\n",
       "      <td>3</td>\n",
       "      <td>furnished</td>\n",
       "    </tr>\n",
       "    <tr>\n",
       "      <th>2</th>\n",
       "      <td>12250000</td>\n",
       "      <td>9960.0</td>\n",
       "      <td>3</td>\n",
       "      <td>2</td>\n",
       "      <td>2</td>\n",
       "      <td>yes</td>\n",
       "      <td>no</td>\n",
       "      <td>yes</td>\n",
       "      <td>no</td>\n",
       "      <td>no</td>\n",
       "      <td>2</td>\n",
       "      <td>semi-furnished</td>\n",
       "    </tr>\n",
       "    <tr>\n",
       "      <th>3</th>\n",
       "      <td>12215000</td>\n",
       "      <td>7500.0</td>\n",
       "      <td>4</td>\n",
       "      <td>2</td>\n",
       "      <td>2</td>\n",
       "      <td>yes</td>\n",
       "      <td>no</td>\n",
       "      <td>yes</td>\n",
       "      <td>no</td>\n",
       "      <td>yes</td>\n",
       "      <td>3</td>\n",
       "      <td>furnished</td>\n",
       "    </tr>\n",
       "    <tr>\n",
       "      <th>4</th>\n",
       "      <td>11410000</td>\n",
       "      <td>7420.0</td>\n",
       "      <td>4</td>\n",
       "      <td>1</td>\n",
       "      <td>2</td>\n",
       "      <td>yes</td>\n",
       "      <td>yes</td>\n",
       "      <td>yes</td>\n",
       "      <td>no</td>\n",
       "      <td>yes</td>\n",
       "      <td>2</td>\n",
       "      <td>furnished</td>\n",
       "    </tr>\n",
       "  </tbody>\n",
       "</table>\n",
       "</div>"
      ],
      "text/plain": [
       "      price    area  bedrooms  bathrooms  stories mainroad guestroom basement  \\\n",
       "0  13300000  7420.0         4          2        3      yes        no       no   \n",
       "1  12250000  8960.0         4          4        4      yes        no       no   \n",
       "2  12250000  9960.0         3          2        2      yes        no      yes   \n",
       "3  12215000  7500.0         4          2        2      yes        no      yes   \n",
       "4  11410000  7420.0         4          1        2      yes       yes      yes   \n",
       "\n",
       "  hotwaterheating airconditioning  parking furnishingstatus  \n",
       "0              no             yes        2        furnished  \n",
       "1              no             yes        3        furnished  \n",
       "2              no              no        2   semi-furnished  \n",
       "3              no             yes        3        furnished  \n",
       "4              no             yes        2        furnished  "
      ]
     },
     "execution_count": 26,
     "metadata": {},
     "output_type": "execute_result"
    }
   ],
   "source": [
    "df.head()"
   ]
  },
  {
   "cell_type": "code",
   "execution_count": 27,
   "id": "3d78afab",
   "metadata": {},
   "outputs": [
    {
     "data": {
      "text/plain": [
       "price                 int64\n",
       "area                float64\n",
       "bedrooms              int64\n",
       "bathrooms             int64\n",
       "stories               int64\n",
       "mainroad             object\n",
       "guestroom            object\n",
       "basement             object\n",
       "hotwaterheating      object\n",
       "airconditioning      object\n",
       "parking               int64\n",
       "furnishingstatus     object\n",
       "dtype: object"
      ]
     },
     "execution_count": 27,
     "metadata": {},
     "output_type": "execute_result"
    }
   ],
   "source": [
    "df.dtypes"
   ]
  },
  {
   "cell_type": "code",
   "execution_count": 75,
   "id": "b2080c6e",
   "metadata": {},
   "outputs": [
    {
     "data": {
      "text/html": [
       "<div>\n",
       "<style scoped>\n",
       "    .dataframe tbody tr th:only-of-type {\n",
       "        vertical-align: middle;\n",
       "    }\n",
       "\n",
       "    .dataframe tbody tr th {\n",
       "        vertical-align: top;\n",
       "    }\n",
       "\n",
       "    .dataframe thead th {\n",
       "        text-align: right;\n",
       "    }\n",
       "</style>\n",
       "<table border=\"1\" class=\"dataframe\">\n",
       "  <thead>\n",
       "    <tr style=\"text-align: right;\">\n",
       "      <th></th>\n",
       "      <th>price</th>\n",
       "      <th>area</th>\n",
       "      <th>bedrooms</th>\n",
       "      <th>bathrooms</th>\n",
       "      <th>stories</th>\n",
       "      <th>mainroad</th>\n",
       "      <th>guestroom</th>\n",
       "      <th>basement</th>\n",
       "      <th>hotwaterheating</th>\n",
       "      <th>airconditioning</th>\n",
       "      <th>parking</th>\n",
       "      <th>furnishingstatus</th>\n",
       "    </tr>\n",
       "  </thead>\n",
       "  <tbody>\n",
       "    <tr>\n",
       "      <th>0</th>\n",
       "      <td>13300000</td>\n",
       "      <td>7420.0</td>\n",
       "      <td>4</td>\n",
       "      <td>2</td>\n",
       "      <td>3</td>\n",
       "      <td>1</td>\n",
       "      <td>0</td>\n",
       "      <td>0</td>\n",
       "      <td>0</td>\n",
       "      <td>1</td>\n",
       "      <td>2</td>\n",
       "      <td>0</td>\n",
       "    </tr>\n",
       "    <tr>\n",
       "      <th>1</th>\n",
       "      <td>12250000</td>\n",
       "      <td>8960.0</td>\n",
       "      <td>4</td>\n",
       "      <td>4</td>\n",
       "      <td>4</td>\n",
       "      <td>1</td>\n",
       "      <td>0</td>\n",
       "      <td>0</td>\n",
       "      <td>0</td>\n",
       "      <td>1</td>\n",
       "      <td>3</td>\n",
       "      <td>0</td>\n",
       "    </tr>\n",
       "    <tr>\n",
       "      <th>2</th>\n",
       "      <td>12250000</td>\n",
       "      <td>9960.0</td>\n",
       "      <td>3</td>\n",
       "      <td>2</td>\n",
       "      <td>2</td>\n",
       "      <td>1</td>\n",
       "      <td>0</td>\n",
       "      <td>1</td>\n",
       "      <td>0</td>\n",
       "      <td>0</td>\n",
       "      <td>2</td>\n",
       "      <td>1</td>\n",
       "    </tr>\n",
       "    <tr>\n",
       "      <th>3</th>\n",
       "      <td>12215000</td>\n",
       "      <td>7500.0</td>\n",
       "      <td>4</td>\n",
       "      <td>2</td>\n",
       "      <td>2</td>\n",
       "      <td>1</td>\n",
       "      <td>0</td>\n",
       "      <td>1</td>\n",
       "      <td>0</td>\n",
       "      <td>1</td>\n",
       "      <td>3</td>\n",
       "      <td>0</td>\n",
       "    </tr>\n",
       "    <tr>\n",
       "      <th>4</th>\n",
       "      <td>11410000</td>\n",
       "      <td>7420.0</td>\n",
       "      <td>4</td>\n",
       "      <td>1</td>\n",
       "      <td>2</td>\n",
       "      <td>1</td>\n",
       "      <td>1</td>\n",
       "      <td>1</td>\n",
       "      <td>0</td>\n",
       "      <td>1</td>\n",
       "      <td>2</td>\n",
       "      <td>0</td>\n",
       "    </tr>\n",
       "  </tbody>\n",
       "</table>\n",
       "</div>"
      ],
      "text/plain": [
       "      price    area  bedrooms  bathrooms  stories  mainroad  guestroom  \\\n",
       "0  13300000  7420.0         4          2        3         1          0   \n",
       "1  12250000  8960.0         4          4        4         1          0   \n",
       "2  12250000  9960.0         3          2        2         1          0   \n",
       "3  12215000  7500.0         4          2        2         1          0   \n",
       "4  11410000  7420.0         4          1        2         1          1   \n",
       "\n",
       "   basement  hotwaterheating  airconditioning  parking  furnishingstatus  \n",
       "0         0                0                1        2                 0  \n",
       "1         0                0                1        3                 0  \n",
       "2         1                0                0        2                 1  \n",
       "3         1                0                1        3                 0  \n",
       "4         1                0                1        2                 0  "
      ]
     },
     "execution_count": 75,
     "metadata": {},
     "output_type": "execute_result"
    }
   ],
   "source": [
    "df.mainroad=le.fit_transform(df.mainroad)\n",
    "df.guestroom=le.fit_transform(df.guestroom)\n",
    "df.basement=le.fit_transform(df.basement)\n",
    "df.hotwaterheating=le.fit_transform(df.hotwaterheating)\n",
    "df.airconditioning=le.fit_transform(df.airconditioning)\n",
    "df.furnishingstatus=le.fit_transform(df.furnishingstatus)\n",
    "df.head()"
   ]
  },
  {
   "cell_type": "markdown",
   "id": "4c416707",
   "metadata": {},
   "source": [
    "Split the data into dependent and independent variables"
   ]
  },
  {
   "cell_type": "code",
   "execution_count": 76,
   "id": "a9fb43fe",
   "metadata": {},
   "outputs": [
    {
     "data": {
      "text/plain": [
       "0      1\n",
       "1      1\n",
       "2      0\n",
       "3      1\n",
       "4      1\n",
       "      ..\n",
       "540    0\n",
       "541    0\n",
       "542    0\n",
       "543    0\n",
       "544    0\n",
       "Name: airconditioning, Length: 545, dtype: int32"
      ]
     },
     "execution_count": 76,
     "metadata": {},
     "output_type": "execute_result"
    }
   ],
   "source": [
    "y=df['airconditioning']\n",
    "y"
   ]
  },
  {
   "cell_type": "code",
   "execution_count": 77,
   "id": "a700a9e3",
   "metadata": {},
   "outputs": [
    {
     "data": {
      "text/html": [
       "<div>\n",
       "<style scoped>\n",
       "    .dataframe tbody tr th:only-of-type {\n",
       "        vertical-align: middle;\n",
       "    }\n",
       "\n",
       "    .dataframe tbody tr th {\n",
       "        vertical-align: top;\n",
       "    }\n",
       "\n",
       "    .dataframe thead th {\n",
       "        text-align: right;\n",
       "    }\n",
       "</style>\n",
       "<table border=\"1\" class=\"dataframe\">\n",
       "  <thead>\n",
       "    <tr style=\"text-align: right;\">\n",
       "      <th></th>\n",
       "      <th>price</th>\n",
       "      <th>area</th>\n",
       "      <th>bedrooms</th>\n",
       "      <th>bathrooms</th>\n",
       "      <th>stories</th>\n",
       "      <th>mainroad</th>\n",
       "      <th>guestroom</th>\n",
       "      <th>basement</th>\n",
       "      <th>hotwaterheating</th>\n",
       "      <th>parking</th>\n",
       "      <th>furnishingstatus</th>\n",
       "    </tr>\n",
       "  </thead>\n",
       "  <tbody>\n",
       "    <tr>\n",
       "      <th>0</th>\n",
       "      <td>13300000</td>\n",
       "      <td>7420.0</td>\n",
       "      <td>4</td>\n",
       "      <td>2</td>\n",
       "      <td>3</td>\n",
       "      <td>1</td>\n",
       "      <td>0</td>\n",
       "      <td>0</td>\n",
       "      <td>0</td>\n",
       "      <td>2</td>\n",
       "      <td>0</td>\n",
       "    </tr>\n",
       "    <tr>\n",
       "      <th>1</th>\n",
       "      <td>12250000</td>\n",
       "      <td>8960.0</td>\n",
       "      <td>4</td>\n",
       "      <td>4</td>\n",
       "      <td>4</td>\n",
       "      <td>1</td>\n",
       "      <td>0</td>\n",
       "      <td>0</td>\n",
       "      <td>0</td>\n",
       "      <td>3</td>\n",
       "      <td>0</td>\n",
       "    </tr>\n",
       "    <tr>\n",
       "      <th>2</th>\n",
       "      <td>12250000</td>\n",
       "      <td>9960.0</td>\n",
       "      <td>3</td>\n",
       "      <td>2</td>\n",
       "      <td>2</td>\n",
       "      <td>1</td>\n",
       "      <td>0</td>\n",
       "      <td>1</td>\n",
       "      <td>0</td>\n",
       "      <td>2</td>\n",
       "      <td>1</td>\n",
       "    </tr>\n",
       "    <tr>\n",
       "      <th>3</th>\n",
       "      <td>12215000</td>\n",
       "      <td>7500.0</td>\n",
       "      <td>4</td>\n",
       "      <td>2</td>\n",
       "      <td>2</td>\n",
       "      <td>1</td>\n",
       "      <td>0</td>\n",
       "      <td>1</td>\n",
       "      <td>0</td>\n",
       "      <td>3</td>\n",
       "      <td>0</td>\n",
       "    </tr>\n",
       "    <tr>\n",
       "      <th>4</th>\n",
       "      <td>11410000</td>\n",
       "      <td>7420.0</td>\n",
       "      <td>4</td>\n",
       "      <td>1</td>\n",
       "      <td>2</td>\n",
       "      <td>1</td>\n",
       "      <td>1</td>\n",
       "      <td>1</td>\n",
       "      <td>0</td>\n",
       "      <td>2</td>\n",
       "      <td>0</td>\n",
       "    </tr>\n",
       "    <tr>\n",
       "      <th>...</th>\n",
       "      <td>...</td>\n",
       "      <td>...</td>\n",
       "      <td>...</td>\n",
       "      <td>...</td>\n",
       "      <td>...</td>\n",
       "      <td>...</td>\n",
       "      <td>...</td>\n",
       "      <td>...</td>\n",
       "      <td>...</td>\n",
       "      <td>...</td>\n",
       "      <td>...</td>\n",
       "    </tr>\n",
       "    <tr>\n",
       "      <th>540</th>\n",
       "      <td>1820000</td>\n",
       "      <td>3000.0</td>\n",
       "      <td>2</td>\n",
       "      <td>1</td>\n",
       "      <td>1</td>\n",
       "      <td>1</td>\n",
       "      <td>0</td>\n",
       "      <td>1</td>\n",
       "      <td>0</td>\n",
       "      <td>2</td>\n",
       "      <td>2</td>\n",
       "    </tr>\n",
       "    <tr>\n",
       "      <th>541</th>\n",
       "      <td>1767150</td>\n",
       "      <td>2400.0</td>\n",
       "      <td>3</td>\n",
       "      <td>1</td>\n",
       "      <td>1</td>\n",
       "      <td>0</td>\n",
       "      <td>0</td>\n",
       "      <td>0</td>\n",
       "      <td>0</td>\n",
       "      <td>0</td>\n",
       "      <td>1</td>\n",
       "    </tr>\n",
       "    <tr>\n",
       "      <th>542</th>\n",
       "      <td>1750000</td>\n",
       "      <td>3620.0</td>\n",
       "      <td>2</td>\n",
       "      <td>1</td>\n",
       "      <td>1</td>\n",
       "      <td>1</td>\n",
       "      <td>0</td>\n",
       "      <td>0</td>\n",
       "      <td>0</td>\n",
       "      <td>0</td>\n",
       "      <td>2</td>\n",
       "    </tr>\n",
       "    <tr>\n",
       "      <th>543</th>\n",
       "      <td>1750000</td>\n",
       "      <td>2910.0</td>\n",
       "      <td>3</td>\n",
       "      <td>1</td>\n",
       "      <td>1</td>\n",
       "      <td>0</td>\n",
       "      <td>0</td>\n",
       "      <td>0</td>\n",
       "      <td>0</td>\n",
       "      <td>0</td>\n",
       "      <td>0</td>\n",
       "    </tr>\n",
       "    <tr>\n",
       "      <th>544</th>\n",
       "      <td>1750000</td>\n",
       "      <td>3850.0</td>\n",
       "      <td>3</td>\n",
       "      <td>1</td>\n",
       "      <td>2</td>\n",
       "      <td>1</td>\n",
       "      <td>0</td>\n",
       "      <td>0</td>\n",
       "      <td>0</td>\n",
       "      <td>0</td>\n",
       "      <td>2</td>\n",
       "    </tr>\n",
       "  </tbody>\n",
       "</table>\n",
       "<p>545 rows × 11 columns</p>\n",
       "</div>"
      ],
      "text/plain": [
       "        price    area  bedrooms  bathrooms  stories  mainroad  guestroom  \\\n",
       "0    13300000  7420.0         4          2        3         1          0   \n",
       "1    12250000  8960.0         4          4        4         1          0   \n",
       "2    12250000  9960.0         3          2        2         1          0   \n",
       "3    12215000  7500.0         4          2        2         1          0   \n",
       "4    11410000  7420.0         4          1        2         1          1   \n",
       "..        ...     ...       ...        ...      ...       ...        ...   \n",
       "540   1820000  3000.0         2          1        1         1          0   \n",
       "541   1767150  2400.0         3          1        1         0          0   \n",
       "542   1750000  3620.0         2          1        1         1          0   \n",
       "543   1750000  2910.0         3          1        1         0          0   \n",
       "544   1750000  3850.0         3          1        2         1          0   \n",
       "\n",
       "     basement  hotwaterheating  parking  furnishingstatus  \n",
       "0           0                0        2                 0  \n",
       "1           0                0        3                 0  \n",
       "2           1                0        2                 1  \n",
       "3           1                0        3                 0  \n",
       "4           1                0        2                 0  \n",
       "..        ...              ...      ...               ...  \n",
       "540         1                0        2                 2  \n",
       "541         0                0        0                 1  \n",
       "542         0                0        0                 2  \n",
       "543         0                0        0                 0  \n",
       "544         0                0        0                 2  \n",
       "\n",
       "[545 rows x 11 columns]"
      ]
     },
     "execution_count": 77,
     "metadata": {},
     "output_type": "execute_result"
    }
   ],
   "source": [
    "x=df.drop(columns=['airconditioning'],axis=1)\n",
    "x"
   ]
  },
  {
   "cell_type": "markdown",
   "id": "20224995",
   "metadata": {},
   "source": [
    "Scale the independent variables"
   ]
  },
  {
   "cell_type": "code",
   "execution_count": 78,
   "id": "244caff2",
   "metadata": {},
   "outputs": [
    {
     "data": {
      "text/plain": [
       "Index(['price', 'area', 'bedrooms', 'bathrooms', 'stories', 'mainroad',\n",
       "       'guestroom', 'basement', 'hotwaterheating', 'parking',\n",
       "       'furnishingstatus'],\n",
       "      dtype='object')"
      ]
     },
     "execution_count": 78,
     "metadata": {},
     "output_type": "execute_result"
    }
   ],
   "source": [
    "name=x.columns\n",
    "name"
   ]
  },
  {
   "cell_type": "code",
   "execution_count": 79,
   "id": "c3f40b01",
   "metadata": {},
   "outputs": [],
   "source": [
    "from sklearn.preprocessing import StandardScaler\n",
    "scale=StandardScaler()"
   ]
  },
  {
   "cell_type": "code",
   "execution_count": 80,
   "id": "a3b8f780",
   "metadata": {},
   "outputs": [
    {
     "data": {
      "text/plain": [
       "array([[ 4.56636513,  1.15658327,  1.40341936, ..., -0.2192645 ,\n",
       "         1.51769249, -1.40628573],\n",
       "       [ 4.00448405,  1.92506041,  1.40341936, ..., -0.2192645 ,\n",
       "         2.67940935, -1.40628573],\n",
       "       [ 4.00448405,  2.42407154,  0.04727831, ..., -0.2192645 ,\n",
       "         1.51769249, -0.09166185],\n",
       "       ...,\n",
       "       [-1.61432675, -0.73965902, -1.30886273, ..., -0.2192645 ,\n",
       "        -0.80574124,  1.22296203],\n",
       "       [-1.61432675, -1.09395692,  0.04727831, ..., -0.2192645 ,\n",
       "        -0.80574124, -1.40628573],\n",
       "       [-1.61432675, -0.62488646,  0.04727831, ..., -0.2192645 ,\n",
       "        -0.80574124,  1.22296203]])"
      ]
     },
     "execution_count": 80,
     "metadata": {},
     "output_type": "execute_result"
    }
   ],
   "source": [
    "x_scaled=scale.fit_transform(x)\n",
    "x_scaled"
   ]
  },
  {
   "cell_type": "code",
   "execution_count": 81,
   "id": "867f8d6e",
   "metadata": {},
   "outputs": [
    {
     "data": {
      "text/html": [
       "<div>\n",
       "<style scoped>\n",
       "    .dataframe tbody tr th:only-of-type {\n",
       "        vertical-align: middle;\n",
       "    }\n",
       "\n",
       "    .dataframe tbody tr th {\n",
       "        vertical-align: top;\n",
       "    }\n",
       "\n",
       "    .dataframe thead th {\n",
       "        text-align: right;\n",
       "    }\n",
       "</style>\n",
       "<table border=\"1\" class=\"dataframe\">\n",
       "  <thead>\n",
       "    <tr style=\"text-align: right;\">\n",
       "      <th></th>\n",
       "      <th>price</th>\n",
       "      <th>area</th>\n",
       "      <th>bedrooms</th>\n",
       "      <th>bathrooms</th>\n",
       "      <th>stories</th>\n",
       "      <th>mainroad</th>\n",
       "      <th>guestroom</th>\n",
       "      <th>basement</th>\n",
       "      <th>hotwaterheating</th>\n",
       "      <th>parking</th>\n",
       "      <th>furnishingstatus</th>\n",
       "    </tr>\n",
       "  </thead>\n",
       "  <tbody>\n",
       "    <tr>\n",
       "      <th>0</th>\n",
       "      <td>4.566365</td>\n",
       "      <td>1.156583</td>\n",
       "      <td>1.403419</td>\n",
       "      <td>1.421812</td>\n",
       "      <td>1.378217</td>\n",
       "      <td>0.405623</td>\n",
       "      <td>-0.465315</td>\n",
       "      <td>-0.734539</td>\n",
       "      <td>-0.219265</td>\n",
       "      <td>1.517692</td>\n",
       "      <td>-1.406286</td>\n",
       "    </tr>\n",
       "    <tr>\n",
       "      <th>1</th>\n",
       "      <td>4.004484</td>\n",
       "      <td>1.925060</td>\n",
       "      <td>1.403419</td>\n",
       "      <td>5.405809</td>\n",
       "      <td>2.532024</td>\n",
       "      <td>0.405623</td>\n",
       "      <td>-0.465315</td>\n",
       "      <td>-0.734539</td>\n",
       "      <td>-0.219265</td>\n",
       "      <td>2.679409</td>\n",
       "      <td>-1.406286</td>\n",
       "    </tr>\n",
       "    <tr>\n",
       "      <th>2</th>\n",
       "      <td>4.004484</td>\n",
       "      <td>2.424072</td>\n",
       "      <td>0.047278</td>\n",
       "      <td>1.421812</td>\n",
       "      <td>0.224410</td>\n",
       "      <td>0.405623</td>\n",
       "      <td>-0.465315</td>\n",
       "      <td>1.361397</td>\n",
       "      <td>-0.219265</td>\n",
       "      <td>1.517692</td>\n",
       "      <td>-0.091662</td>\n",
       "    </tr>\n",
       "    <tr>\n",
       "      <th>3</th>\n",
       "      <td>3.985755</td>\n",
       "      <td>1.196504</td>\n",
       "      <td>1.403419</td>\n",
       "      <td>1.421812</td>\n",
       "      <td>0.224410</td>\n",
       "      <td>0.405623</td>\n",
       "      <td>-0.465315</td>\n",
       "      <td>1.361397</td>\n",
       "      <td>-0.219265</td>\n",
       "      <td>2.679409</td>\n",
       "      <td>-1.406286</td>\n",
       "    </tr>\n",
       "    <tr>\n",
       "      <th>4</th>\n",
       "      <td>3.554979</td>\n",
       "      <td>1.156583</td>\n",
       "      <td>1.403419</td>\n",
       "      <td>-0.570187</td>\n",
       "      <td>0.224410</td>\n",
       "      <td>0.405623</td>\n",
       "      <td>2.149083</td>\n",
       "      <td>1.361397</td>\n",
       "      <td>-0.219265</td>\n",
       "      <td>1.517692</td>\n",
       "      <td>-1.406286</td>\n",
       "    </tr>\n",
       "    <tr>\n",
       "      <th>...</th>\n",
       "      <td>...</td>\n",
       "      <td>...</td>\n",
       "      <td>...</td>\n",
       "      <td>...</td>\n",
       "      <td>...</td>\n",
       "      <td>...</td>\n",
       "      <td>...</td>\n",
       "      <td>...</td>\n",
       "      <td>...</td>\n",
       "      <td>...</td>\n",
       "      <td>...</td>\n",
       "    </tr>\n",
       "    <tr>\n",
       "      <th>540</th>\n",
       "      <td>-1.576868</td>\n",
       "      <td>-1.049046</td>\n",
       "      <td>-1.308863</td>\n",
       "      <td>-0.570187</td>\n",
       "      <td>-0.929397</td>\n",
       "      <td>0.405623</td>\n",
       "      <td>-0.465315</td>\n",
       "      <td>1.361397</td>\n",
       "      <td>-0.219265</td>\n",
       "      <td>1.517692</td>\n",
       "      <td>1.222962</td>\n",
       "    </tr>\n",
       "    <tr>\n",
       "      <th>541</th>\n",
       "      <td>-1.605149</td>\n",
       "      <td>-1.348453</td>\n",
       "      <td>0.047278</td>\n",
       "      <td>-0.570187</td>\n",
       "      <td>-0.929397</td>\n",
       "      <td>-2.465344</td>\n",
       "      <td>-0.465315</td>\n",
       "      <td>-0.734539</td>\n",
       "      <td>-0.219265</td>\n",
       "      <td>-0.805741</td>\n",
       "      <td>-0.091662</td>\n",
       "    </tr>\n",
       "    <tr>\n",
       "      <th>542</th>\n",
       "      <td>-1.614327</td>\n",
       "      <td>-0.739659</td>\n",
       "      <td>-1.308863</td>\n",
       "      <td>-0.570187</td>\n",
       "      <td>-0.929397</td>\n",
       "      <td>0.405623</td>\n",
       "      <td>-0.465315</td>\n",
       "      <td>-0.734539</td>\n",
       "      <td>-0.219265</td>\n",
       "      <td>-0.805741</td>\n",
       "      <td>1.222962</td>\n",
       "    </tr>\n",
       "    <tr>\n",
       "      <th>543</th>\n",
       "      <td>-1.614327</td>\n",
       "      <td>-1.093957</td>\n",
       "      <td>0.047278</td>\n",
       "      <td>-0.570187</td>\n",
       "      <td>-0.929397</td>\n",
       "      <td>-2.465344</td>\n",
       "      <td>-0.465315</td>\n",
       "      <td>-0.734539</td>\n",
       "      <td>-0.219265</td>\n",
       "      <td>-0.805741</td>\n",
       "      <td>-1.406286</td>\n",
       "    </tr>\n",
       "    <tr>\n",
       "      <th>544</th>\n",
       "      <td>-1.614327</td>\n",
       "      <td>-0.624886</td>\n",
       "      <td>0.047278</td>\n",
       "      <td>-0.570187</td>\n",
       "      <td>0.224410</td>\n",
       "      <td>0.405623</td>\n",
       "      <td>-0.465315</td>\n",
       "      <td>-0.734539</td>\n",
       "      <td>-0.219265</td>\n",
       "      <td>-0.805741</td>\n",
       "      <td>1.222962</td>\n",
       "    </tr>\n",
       "  </tbody>\n",
       "</table>\n",
       "<p>545 rows × 11 columns</p>\n",
       "</div>"
      ],
      "text/plain": [
       "        price      area  bedrooms  bathrooms   stories  mainroad  guestroom  \\\n",
       "0    4.566365  1.156583  1.403419   1.421812  1.378217  0.405623  -0.465315   \n",
       "1    4.004484  1.925060  1.403419   5.405809  2.532024  0.405623  -0.465315   \n",
       "2    4.004484  2.424072  0.047278   1.421812  0.224410  0.405623  -0.465315   \n",
       "3    3.985755  1.196504  1.403419   1.421812  0.224410  0.405623  -0.465315   \n",
       "4    3.554979  1.156583  1.403419  -0.570187  0.224410  0.405623   2.149083   \n",
       "..        ...       ...       ...        ...       ...       ...        ...   \n",
       "540 -1.576868 -1.049046 -1.308863  -0.570187 -0.929397  0.405623  -0.465315   \n",
       "541 -1.605149 -1.348453  0.047278  -0.570187 -0.929397 -2.465344  -0.465315   \n",
       "542 -1.614327 -0.739659 -1.308863  -0.570187 -0.929397  0.405623  -0.465315   \n",
       "543 -1.614327 -1.093957  0.047278  -0.570187 -0.929397 -2.465344  -0.465315   \n",
       "544 -1.614327 -0.624886  0.047278  -0.570187  0.224410  0.405623  -0.465315   \n",
       "\n",
       "     basement  hotwaterheating   parking  furnishingstatus  \n",
       "0   -0.734539        -0.219265  1.517692         -1.406286  \n",
       "1   -0.734539        -0.219265  2.679409         -1.406286  \n",
       "2    1.361397        -0.219265  1.517692         -0.091662  \n",
       "3    1.361397        -0.219265  2.679409         -1.406286  \n",
       "4    1.361397        -0.219265  1.517692         -1.406286  \n",
       "..        ...              ...       ...               ...  \n",
       "540  1.361397        -0.219265  1.517692          1.222962  \n",
       "541 -0.734539        -0.219265 -0.805741         -0.091662  \n",
       "542 -0.734539        -0.219265 -0.805741          1.222962  \n",
       "543 -0.734539        -0.219265 -0.805741         -1.406286  \n",
       "544 -0.734539        -0.219265 -0.805741          1.222962  \n",
       "\n",
       "[545 rows x 11 columns]"
      ]
     },
     "execution_count": 81,
     "metadata": {},
     "output_type": "execute_result"
    }
   ],
   "source": [
    "x=pd.DataFrame(x_scaled,columns=name)\n",
    "x"
   ]
  },
  {
   "cell_type": "markdown",
   "id": "400ca55d",
   "metadata": {},
   "source": [
    "Split the data into training and testing"
   ]
  },
  {
   "cell_type": "code",
   "execution_count": 82,
   "id": "0901bae0",
   "metadata": {},
   "outputs": [],
   "source": [
    "from sklearn.model_selection import train_test_split\n",
    "x_train,x_test,y_train,y_test=train_test_split(x,y, test_size=0.2, random_state=0)"
   ]
  },
  {
   "cell_type": "code",
   "execution_count": 83,
   "id": "55061bcc",
   "metadata": {},
   "outputs": [
    {
     "data": {
      "text/html": [
       "<div>\n",
       "<style scoped>\n",
       "    .dataframe tbody tr th:only-of-type {\n",
       "        vertical-align: middle;\n",
       "    }\n",
       "\n",
       "    .dataframe tbody tr th {\n",
       "        vertical-align: top;\n",
       "    }\n",
       "\n",
       "    .dataframe thead th {\n",
       "        text-align: right;\n",
       "    }\n",
       "</style>\n",
       "<table border=\"1\" class=\"dataframe\">\n",
       "  <thead>\n",
       "    <tr style=\"text-align: right;\">\n",
       "      <th></th>\n",
       "      <th>price</th>\n",
       "      <th>area</th>\n",
       "      <th>bedrooms</th>\n",
       "      <th>bathrooms</th>\n",
       "      <th>stories</th>\n",
       "      <th>mainroad</th>\n",
       "      <th>guestroom</th>\n",
       "      <th>basement</th>\n",
       "      <th>hotwaterheating</th>\n",
       "      <th>parking</th>\n",
       "      <th>furnishingstatus</th>\n",
       "    </tr>\n",
       "  </thead>\n",
       "  <tbody>\n",
       "    <tr>\n",
       "      <th>542</th>\n",
       "      <td>-1.614327</td>\n",
       "      <td>-0.739659</td>\n",
       "      <td>-1.308863</td>\n",
       "      <td>-0.570187</td>\n",
       "      <td>-0.929397</td>\n",
       "      <td>0.405623</td>\n",
       "      <td>-0.465315</td>\n",
       "      <td>-0.734539</td>\n",
       "      <td>-0.219265</td>\n",
       "      <td>-0.805741</td>\n",
       "      <td>1.222962</td>\n",
       "    </tr>\n",
       "    <tr>\n",
       "      <th>496</th>\n",
       "      <td>-1.108634</td>\n",
       "      <td>-0.550035</td>\n",
       "      <td>-1.308863</td>\n",
       "      <td>-0.570187</td>\n",
       "      <td>-0.929397</td>\n",
       "      <td>0.405623</td>\n",
       "      <td>-0.465315</td>\n",
       "      <td>-0.734539</td>\n",
       "      <td>-0.219265</td>\n",
       "      <td>-0.805741</td>\n",
       "      <td>1.222962</td>\n",
       "    </tr>\n",
       "    <tr>\n",
       "      <th>484</th>\n",
       "      <td>-1.014987</td>\n",
       "      <td>-1.029085</td>\n",
       "      <td>-1.308863</td>\n",
       "      <td>-0.570187</td>\n",
       "      <td>-0.929397</td>\n",
       "      <td>-2.465344</td>\n",
       "      <td>-0.465315</td>\n",
       "      <td>-0.734539</td>\n",
       "      <td>-0.219265</td>\n",
       "      <td>-0.805741</td>\n",
       "      <td>1.222962</td>\n",
       "    </tr>\n",
       "    <tr>\n",
       "      <th>507</th>\n",
       "      <td>-1.164822</td>\n",
       "      <td>-0.749639</td>\n",
       "      <td>-1.308863</td>\n",
       "      <td>-0.570187</td>\n",
       "      <td>-0.929397</td>\n",
       "      <td>0.405623</td>\n",
       "      <td>-0.465315</td>\n",
       "      <td>-0.734539</td>\n",
       "      <td>-0.219265</td>\n",
       "      <td>-0.805741</td>\n",
       "      <td>1.222962</td>\n",
       "    </tr>\n",
       "    <tr>\n",
       "      <th>252</th>\n",
       "      <td>-0.134707</td>\n",
       "      <td>2.374170</td>\n",
       "      <td>0.047278</td>\n",
       "      <td>-0.570187</td>\n",
       "      <td>-0.929397</td>\n",
       "      <td>0.405623</td>\n",
       "      <td>-0.465315</td>\n",
       "      <td>-0.734539</td>\n",
       "      <td>-0.219265</td>\n",
       "      <td>-0.805741</td>\n",
       "      <td>-0.091662</td>\n",
       "    </tr>\n",
       "  </tbody>\n",
       "</table>\n",
       "</div>"
      ],
      "text/plain": [
       "        price      area  bedrooms  bathrooms   stories  mainroad  guestroom  \\\n",
       "542 -1.614327 -0.739659 -1.308863  -0.570187 -0.929397  0.405623  -0.465315   \n",
       "496 -1.108634 -0.550035 -1.308863  -0.570187 -0.929397  0.405623  -0.465315   \n",
       "484 -1.014987 -1.029085 -1.308863  -0.570187 -0.929397 -2.465344  -0.465315   \n",
       "507 -1.164822 -0.749639 -1.308863  -0.570187 -0.929397  0.405623  -0.465315   \n",
       "252 -0.134707  2.374170  0.047278  -0.570187 -0.929397  0.405623  -0.465315   \n",
       "\n",
       "     basement  hotwaterheating   parking  furnishingstatus  \n",
       "542 -0.734539        -0.219265 -0.805741          1.222962  \n",
       "496 -0.734539        -0.219265 -0.805741          1.222962  \n",
       "484 -0.734539        -0.219265 -0.805741          1.222962  \n",
       "507 -0.734539        -0.219265 -0.805741          1.222962  \n",
       "252 -0.734539        -0.219265 -0.805741         -0.091662  "
      ]
     },
     "execution_count": 83,
     "metadata": {},
     "output_type": "execute_result"
    }
   ],
   "source": [
    "x_train.head()"
   ]
  },
  {
   "cell_type": "code",
   "execution_count": 84,
   "id": "52ff67b2",
   "metadata": {},
   "outputs": [
    {
     "data": {
      "text/html": [
       "<div>\n",
       "<style scoped>\n",
       "    .dataframe tbody tr th:only-of-type {\n",
       "        vertical-align: middle;\n",
       "    }\n",
       "\n",
       "    .dataframe tbody tr th {\n",
       "        vertical-align: top;\n",
       "    }\n",
       "\n",
       "    .dataframe thead th {\n",
       "        text-align: right;\n",
       "    }\n",
       "</style>\n",
       "<table border=\"1\" class=\"dataframe\">\n",
       "  <thead>\n",
       "    <tr style=\"text-align: right;\">\n",
       "      <th></th>\n",
       "      <th>price</th>\n",
       "      <th>area</th>\n",
       "      <th>bedrooms</th>\n",
       "      <th>bathrooms</th>\n",
       "      <th>stories</th>\n",
       "      <th>mainroad</th>\n",
       "      <th>guestroom</th>\n",
       "      <th>basement</th>\n",
       "      <th>hotwaterheating</th>\n",
       "      <th>parking</th>\n",
       "      <th>furnishingstatus</th>\n",
       "    </tr>\n",
       "  </thead>\n",
       "  <tbody>\n",
       "    <tr>\n",
       "      <th>239</th>\n",
       "      <td>-0.097248</td>\n",
       "      <td>-0.550035</td>\n",
       "      <td>0.047278</td>\n",
       "      <td>-0.570187</td>\n",
       "      <td>0.224410</td>\n",
       "      <td>0.405623</td>\n",
       "      <td>-0.465315</td>\n",
       "      <td>-0.734539</td>\n",
       "      <td>-0.219265</td>\n",
       "      <td>0.355976</td>\n",
       "      <td>-1.406286</td>\n",
       "    </tr>\n",
       "    <tr>\n",
       "      <th>113</th>\n",
       "      <td>0.704369</td>\n",
       "      <td>2.254408</td>\n",
       "      <td>0.047278</td>\n",
       "      <td>-0.570187</td>\n",
       "      <td>-0.929397</td>\n",
       "      <td>0.405623</td>\n",
       "      <td>-0.465315</td>\n",
       "      <td>1.361397</td>\n",
       "      <td>-0.219265</td>\n",
       "      <td>1.517692</td>\n",
       "      <td>-1.406286</td>\n",
       "    </tr>\n",
       "    <tr>\n",
       "      <th>325</th>\n",
       "      <td>-0.406282</td>\n",
       "      <td>-0.819501</td>\n",
       "      <td>1.403419</td>\n",
       "      <td>-0.570187</td>\n",
       "      <td>0.224410</td>\n",
       "      <td>0.405623</td>\n",
       "      <td>-0.465315</td>\n",
       "      <td>-0.734539</td>\n",
       "      <td>-0.219265</td>\n",
       "      <td>-0.805741</td>\n",
       "      <td>-0.091662</td>\n",
       "    </tr>\n",
       "    <tr>\n",
       "      <th>66</th>\n",
       "      <td>1.157620</td>\n",
       "      <td>2.693538</td>\n",
       "      <td>-1.308863</td>\n",
       "      <td>-0.570187</td>\n",
       "      <td>-0.929397</td>\n",
       "      <td>0.405623</td>\n",
       "      <td>-0.465315</td>\n",
       "      <td>1.361397</td>\n",
       "      <td>4.560702</td>\n",
       "      <td>0.355976</td>\n",
       "      <td>-1.406286</td>\n",
       "    </tr>\n",
       "    <tr>\n",
       "      <th>479</th>\n",
       "      <td>-0.977528</td>\n",
       "      <td>-0.719699</td>\n",
       "      <td>1.403419</td>\n",
       "      <td>-0.570187</td>\n",
       "      <td>0.224410</td>\n",
       "      <td>-2.465344</td>\n",
       "      <td>-0.465315</td>\n",
       "      <td>-0.734539</td>\n",
       "      <td>-0.219265</td>\n",
       "      <td>-0.805741</td>\n",
       "      <td>1.222962</td>\n",
       "    </tr>\n",
       "  </tbody>\n",
       "</table>\n",
       "</div>"
      ],
      "text/plain": [
       "        price      area  bedrooms  bathrooms   stories  mainroad  guestroom  \\\n",
       "239 -0.097248 -0.550035  0.047278  -0.570187  0.224410  0.405623  -0.465315   \n",
       "113  0.704369  2.254408  0.047278  -0.570187 -0.929397  0.405623  -0.465315   \n",
       "325 -0.406282 -0.819501  1.403419  -0.570187  0.224410  0.405623  -0.465315   \n",
       "66   1.157620  2.693538 -1.308863  -0.570187 -0.929397  0.405623  -0.465315   \n",
       "479 -0.977528 -0.719699  1.403419  -0.570187  0.224410 -2.465344  -0.465315   \n",
       "\n",
       "     basement  hotwaterheating   parking  furnishingstatus  \n",
       "239 -0.734539        -0.219265  0.355976         -1.406286  \n",
       "113  1.361397        -0.219265  1.517692         -1.406286  \n",
       "325 -0.734539        -0.219265 -0.805741         -0.091662  \n",
       "66   1.361397         4.560702  0.355976         -1.406286  \n",
       "479 -0.734539        -0.219265 -0.805741          1.222962  "
      ]
     },
     "execution_count": 84,
     "metadata": {},
     "output_type": "execute_result"
    }
   ],
   "source": [
    "x_test.head()"
   ]
  },
  {
   "cell_type": "code",
   "execution_count": 85,
   "id": "92106cca",
   "metadata": {},
   "outputs": [
    {
     "data": {
      "text/plain": [
       "239    0\n",
       "113    0\n",
       "325    1\n",
       "66     0\n",
       "479    0\n",
       "Name: airconditioning, dtype: int32"
      ]
     },
     "execution_count": 85,
     "metadata": {},
     "output_type": "execute_result"
    }
   ],
   "source": [
    "y_test.head()"
   ]
  },
  {
   "cell_type": "code",
   "execution_count": 87,
   "id": "885f80ed",
   "metadata": {},
   "outputs": [
    {
     "data": {
      "text/plain": [
       "542    0\n",
       "496    0\n",
       "484    0\n",
       "507    0\n",
       "252    0\n",
       "Name: airconditioning, dtype: int32"
      ]
     },
     "execution_count": 87,
     "metadata": {},
     "output_type": "execute_result"
    }
   ],
   "source": [
    "y_train.head()"
   ]
  },
  {
   "cell_type": "markdown",
   "id": "4ed3c3af",
   "metadata": {},
   "source": [
    "Build the Model"
   ]
  },
  {
   "cell_type": "code",
   "execution_count": 88,
   "id": "f281c4a0",
   "metadata": {},
   "outputs": [
    {
     "name": "stdout",
     "output_type": "stream",
     "text": [
      "(545, 11)\n"
     ]
    }
   ],
   "source": [
    "print(x.shape)"
   ]
  },
  {
   "cell_type": "code",
   "execution_count": 47,
   "id": "c05e5ca9",
   "metadata": {},
   "outputs": [
    {
     "name": "stdout",
     "output_type": "stream",
     "text": [
      "(545,)\n"
     ]
    }
   ],
   "source": [
    "print(y.shape)"
   ]
  },
  {
   "cell_type": "code",
   "execution_count": 89,
   "id": "dd516329",
   "metadata": {},
   "outputs": [
    {
     "name": "stdout",
     "output_type": "stream",
     "text": [
      "(436, 11)\n",
      "(109, 11)\n",
      "(436,)\n",
      "(109,)\n"
     ]
    }
   ],
   "source": [
    "print(x_train.shape)\n",
    "print(x_test.shape)\n",
    "print(y_train.shape)\n",
    "print(y_test.shape)"
   ]
  },
  {
   "cell_type": "markdown",
   "id": "92f11943",
   "metadata": {},
   "source": [
    "Linear Regression Model"
   ]
  },
  {
   "cell_type": "code",
   "execution_count": 160,
   "id": "363b51e7",
   "metadata": {},
   "outputs": [
    {
     "data": {
      "text/plain": [
       "LinearRegression()"
      ]
     },
     "execution_count": 160,
     "metadata": {},
     "output_type": "execute_result"
    }
   ],
   "source": [
    "#Model Building\n",
    "from sklearn.linear_model import LinearRegression\n",
    "lr=LinearRegression()\n",
    "lr"
   ]
  },
  {
   "cell_type": "markdown",
   "id": "2c5c3584",
   "metadata": {},
   "source": [
    "Train the Model"
   ]
  },
  {
   "cell_type": "code",
   "execution_count": 161,
   "id": "12693b4b",
   "metadata": {},
   "outputs": [
    {
     "data": {
      "text/plain": [
       "LinearRegression()"
      ]
     },
     "execution_count": 161,
     "metadata": {},
     "output_type": "execute_result"
    }
   ],
   "source": [
    "#train the model\n",
    "lr.fit(x_train,y_train)"
   ]
  },
  {
   "cell_type": "markdown",
   "id": "a700ea3e",
   "metadata": {},
   "source": [
    "Test the Model"
   ]
  },
  {
   "cell_type": "code",
   "execution_count": 162,
   "id": "473fab7d",
   "metadata": {},
   "outputs": [
    {
     "data": {
      "text/plain": [
       "array([ 3.49309555e-01,  5.18531584e-01,  2.49281279e-01,  1.21759573e-01,\n",
       "        2.34864560e-01,  4.66257680e-01,  1.54689035e-01,  2.69722793e-01,\n",
       "        1.35318534e-01,  8.06157222e-01,  6.02296241e-01,  2.64759709e-01,\n",
       "        2.01846081e-01,  1.28863075e-01,  2.46997799e-01,  1.38860714e-01,\n",
       "        3.46713937e-01,  1.54327219e-01,  3.44157782e-01,  2.68725208e-01,\n",
       "        2.33062531e-01, -2.17296068e-01,  5.25375549e-01, -4.67281347e-04,\n",
       "        5.89201341e-01,  2.94255670e-01,  4.70867432e-01,  3.01796019e-01,\n",
       "        3.17886175e-01,  4.65191461e-01,  2.40334483e-01, -2.00538673e-01,\n",
       "        4.23840333e-01,  1.16162123e-01, -9.44864775e-02,  3.27989830e-01,\n",
       "        9.02581231e-01,  2.40668323e-01,  1.09460592e-01,  3.92454074e-01,\n",
       "        9.18157177e-01,  3.50570678e-01,  4.91374988e-01,  1.20373241e-01,\n",
       "        1.65389393e-01,  6.42900314e-01,  2.47599055e-01,  9.42852112e-02,\n",
       "        3.33818002e-01,  5.40348258e-01,  2.88730576e-01,  2.80699676e-01,\n",
       "        3.05252161e-01,  1.71040256e-01,  1.10932458e-01,  3.61768946e-01,\n",
       "        5.41498039e-01,  4.61975627e-01,  1.63011735e-01,  3.74406861e-01,\n",
       "        3.41182875e-01,  3.46435851e-01,  2.24037314e-01,  7.37693557e-01,\n",
       "        2.07868395e-01,  4.98674581e-01,  6.65014907e-01,  3.33431554e-01,\n",
       "        2.67914231e-01,  3.23585608e-01,  2.35433580e-01,  5.35762305e-01,\n",
       "        2.55846374e-01, -6.55663505e-03,  2.48602052e-01,  3.30096545e-01,\n",
       "        1.22277423e-01,  4.22789349e-01,  6.59788760e-02,  1.43753757e-01,\n",
       "        2.30735491e-01, -1.73215604e-01,  2.88529710e-01,  2.51632228e-01,\n",
       "        1.93417274e-01,  5.68454893e-01, -2.29715250e-01,  2.97260197e-01,\n",
       "        2.62853544e-01,  2.66399299e-01,  2.36785190e-01,  5.24351246e-01,\n",
       "        1.34242267e-01,  2.56353190e-01,  1.28388150e-01,  1.15166047e+00,\n",
       "        3.12091305e-01,  7.87795825e-01,  2.53358080e-01,  1.99046933e-01,\n",
       "        3.75932195e-01,  3.06098929e-01,  5.92792437e-03,  4.06468577e-01,\n",
       "        5.55706253e-01,  5.21544770e-01,  2.67010743e-01, -3.07159774e-01,\n",
       "        3.78847344e-01])"
      ]
     },
     "execution_count": 162,
     "metadata": {},
     "output_type": "execute_result"
    }
   ],
   "source": [
    "#test the model \n",
    "y_pred=lr.predict(x_test)\n",
    "y_pred"
   ]
  },
  {
   "cell_type": "code",
   "execution_count": 163,
   "id": "52821cb6",
   "metadata": {},
   "outputs": [
    {
     "data": {
      "text/plain": [
       "239    0\n",
       "113    0\n",
       "325    1\n",
       "66     0\n",
       "479    0\n",
       "      ..\n",
       "76     1\n",
       "132    1\n",
       "311    0\n",
       "464    0\n",
       "155    0\n",
       "Name: airconditioning, Length: 109, dtype: int32"
      ]
     },
     "execution_count": 163,
     "metadata": {},
     "output_type": "execute_result"
    }
   ],
   "source": [
    "y_test # Actual outcome"
   ]
  },
  {
   "cell_type": "markdown",
   "id": "c88e0890",
   "metadata": {},
   "source": [
    "Measure the performance using Metrics"
   ]
  },
  {
   "cell_type": "code",
   "execution_count": 164,
   "id": "e5e165ed",
   "metadata": {},
   "outputs": [
    {
     "data": {
      "text/plain": [
       "239   -0.349310\n",
       "113   -0.518532\n",
       "325    0.750719\n",
       "66    -0.121760\n",
       "479   -0.234865\n",
       "         ...   \n",
       "76     0.444294\n",
       "132    0.478455\n",
       "311   -0.267011\n",
       "464    0.307160\n",
       "155   -0.378847\n",
       "Name: airconditioning, Length: 109, dtype: float64"
      ]
     },
     "execution_count": 164,
     "metadata": {},
     "output_type": "execute_result"
    }
   ],
   "source": [
    "E=y_test-y_pred\n",
    "E"
   ]
  },
  {
   "cell_type": "code",
   "execution_count": 165,
   "id": "3c3f0e5a",
   "metadata": {},
   "outputs": [
    {
     "data": {
      "text/plain": [
       "0.21444627198359156"
      ]
     },
     "execution_count": 165,
     "metadata": {},
     "output_type": "execute_result"
    }
   ],
   "source": [
    "from sklearn.metrics import r2_score\n",
    "acc=r2_score(y_test,y_pred)\n",
    "acc"
   ]
  },
  {
   "cell_type": "code",
   "execution_count": 166,
   "id": "7376d9dc",
   "metadata": {},
   "outputs": [
    {
     "data": {
      "text/plain": [
       "0.33960722557641043"
      ]
     },
     "execution_count": 166,
     "metadata": {},
     "output_type": "execute_result"
    }
   ],
   "source": [
    "from sklearn.metrics import mean_absolute_error\n",
    "mean_absolute_error(y_test,y_pred)"
   ]
  },
  {
   "cell_type": "code",
   "execution_count": 167,
   "id": "fd384fe0",
   "metadata": {},
   "outputs": [
    {
     "data": {
      "text/plain": [
       "0.15987449830348244"
      ]
     },
     "execution_count": 167,
     "metadata": {},
     "output_type": "execute_result"
    }
   ],
   "source": [
    "from sklearn.metrics import mean_squared_error\n",
    "mse=mean_squared_error(y_test,y_pred)\n",
    "mse"
   ]
  },
  {
   "cell_type": "code",
   "execution_count": 168,
   "id": "0b8dfef3",
   "metadata": {},
   "outputs": [
    {
     "data": {
      "text/plain": [
       "0.39984309210424335"
      ]
     },
     "execution_count": 168,
     "metadata": {},
     "output_type": "execute_result"
    }
   ],
   "source": [
    "rmse=np.sqrt(mse)\n",
    "rmse"
   ]
  },
  {
   "cell_type": "markdown",
   "id": "3f23e682",
   "metadata": {},
   "source": [
    "Polynominal Regression Model"
   ]
  },
  {
   "cell_type": "code",
   "execution_count": 169,
   "id": "e6b8d5bc",
   "metadata": {},
   "outputs": [
    {
     "data": {
      "text/plain": [
       "array([[ 1.00000000e+00,  4.56636513e+00,  1.15658327e+00, ...,\n",
       "         4.55527615e+00, -4.22089448e+00,  3.91105822e+00],\n",
       "       [ 1.00000000e+00,  4.00448405e+00,  1.92506041e+00, ...,\n",
       "         1.41979381e+01, -7.45177579e+00,  3.91105822e+00],\n",
       "       [ 1.00000000e+00,  4.00448405e+00,  2.42407154e+00, ...,\n",
       "         1.93528439e-02, -1.16882535e-03,  7.05918312e-05],\n",
       "       ...,\n",
       "       [ 1.00000000e+00, -1.61432675e+00, -7.39659018e-01, ...,\n",
       "         9.70995309e-01, -1.47378630e+00,  2.23692745e+00],\n",
       "       [ 1.00000000e+00, -1.61432675e+00, -1.09395692e+00, ...,\n",
       "         1.28392106e+00,  2.24086814e+00,  3.91105822e+00],\n",
       "       [ 1.00000000e+00, -1.61432675e+00, -6.24886458e-01, ...,\n",
       "         9.70995309e-01, -1.47378630e+00,  2.23692745e+00]])"
      ]
     },
     "execution_count": 169,
     "metadata": {},
     "output_type": "execute_result"
    }
   ],
   "source": [
    "from sklearn.preprocessing import PolynomialFeatures\n",
    "pr=PolynomialFeatures(degree=4)\n",
    "#x0,x1,x2,x3,x4\n",
    "x_poly=pr.fit_transform(x)\n",
    "x_poly"
   ]
  },
  {
   "cell_type": "code",
   "execution_count": 170,
   "id": "5637359f",
   "metadata": {},
   "outputs": [
    {
     "data": {
      "text/plain": [
       "PolynomialFeatures(degree=4)"
      ]
     },
     "execution_count": 170,
     "metadata": {},
     "output_type": "execute_result"
    }
   ],
   "source": [
    "#associating above values with y\n",
    "pr.fit(x_poly,y)"
   ]
  },
  {
   "cell_type": "code",
   "execution_count": 171,
   "id": "3d11302b",
   "metadata": {},
   "outputs": [
    {
     "data": {
      "text/plain": [
       "LinearRegression()"
      ]
     },
     "execution_count": 171,
     "metadata": {},
     "output_type": "execute_result"
    }
   ],
   "source": [
    "lr.fit(x_poly,y)"
   ]
  },
  {
   "cell_type": "code",
   "execution_count": 172,
   "id": "b928ad4f",
   "metadata": {},
   "outputs": [
    {
     "data": {
      "text/plain": [
       "array([ 9.99996986e-01,  9.99997308e-01, -3.01608816e-06,  9.99996991e-01,\n",
       "        9.99997070e-01,  9.99997129e-01,  9.99996891e-01, -2.09594145e-06,\n",
       "        9.99997099e-01,  9.99997040e-01,  9.99997073e-01, -1.26147643e-06,\n",
       "        9.99996956e-01, -1.73831359e-06, -2.99373642e-06, -3.05008143e-06,\n",
       "        9.99997099e-01,  9.99996824e-01,  9.99997010e-01,  9.99996978e-01,\n",
       "       -3.76487151e-06,  9.99997040e-01,  9.99997129e-01,  9.99997070e-01,\n",
       "        9.99996997e-01,  9.99997070e-01,  9.99997189e-01,  1.86980236e-04,\n",
       "       -3.70526686e-06,  9.99996995e-01,  9.99996850e-01,  9.99996883e-01,\n",
       "        9.99996976e-01, -2.63238326e-06,  9.99996921e-01,  9.99996753e-01,\n",
       "       -2.81119719e-06,  9.99996816e-01,  9.99996682e-01,  9.99996854e-01,\n",
       "        9.99988119e-01,  9.99996898e-01,  9.99996848e-01, -3.12784687e-06,\n",
       "        9.99996887e-01,  9.99996980e-01,  9.99996880e-01,  9.99996861e-01,\n",
       "       -3.05287540e-06,  9.99997070e-01, -3.08686867e-06,  9.99996950e-01,\n",
       "        9.99997010e-01,  9.99996868e-01,  9.99996950e-01,  9.99681679e-01,\n",
       "       -2.97278166e-06,  9.99997368e-01,  9.99997099e-01,  9.99997070e-01,\n",
       "       -3.04961577e-06,  9.99789904e-01,  9.99996976e-01,  9.99996947e-01,\n",
       "        9.99997135e-01,  9.99997011e-01, -4.36091796e-06, -3.11480835e-06,\n",
       "        9.99720824e-01, -3.01981345e-06,  9.99996934e-01,  9.99996898e-01,\n",
       "        9.99996891e-01, -3.01981345e-06, -3.51155177e-06, -2.51317397e-06,\n",
       "        9.99996964e-01,  9.99996964e-01,  9.99997010e-01,  9.99996950e-01,\n",
       "       -3.70526686e-06,  9.99996962e-01,  9.99997094e-01,  9.99996906e-01,\n",
       "       -2.69198790e-06,  9.99996986e-01, -3.07057053e-06, -3.02074477e-06,\n",
       "        9.99997010e-01, -2.66963616e-06,  1.00017058e+00, -2.87080184e-06,\n",
       "        9.99996921e-01,  9.99996958e-01, -3.15392390e-06,  9.99996939e-01,\n",
       "       -2.96207145e-06,  9.99996980e-01,  9.99996950e-01, -2.99001113e-06,\n",
       "        9.99996940e-01, -3.04123387e-06,  9.99996980e-01,  9.99997070e-01,\n",
       "       -2.90060416e-06,  9.99996861e-01,  9.99996940e-01, -3.05566937e-06,\n",
       "       -3.05334106e-06, -2.21515074e-06, -2.93040648e-06,  9.99996929e-01,\n",
       "       -2.93040648e-06, -2.95089558e-06, -2.87080184e-06,  9.99997040e-01,\n",
       "       -3.04961577e-06,  9.99997070e-01,  9.99997010e-01,  9.99996974e-01,\n",
       "       -2.96020880e-06,  9.99997010e-01, -3.04821879e-06, -2.98814848e-06,\n",
       "       -3.15764919e-06,  9.98619312e-01, -3.04216519e-06,  9.99996965e-01,\n",
       "        9.99996980e-01, -3.05706635e-06, -3.01981345e-06, -3.04961577e-06,\n",
       "        1.01738310e+00,  1.00079179e+00, -3.02353874e-06,  9.99996831e-01,\n",
       "        9.99996943e-01, -3.04216519e-06,  9.81495282e-01,  9.99997010e-01,\n",
       "        9.99996906e-01, -2.99001113e-06, -2.94018537e-06, -3.19862738e-06,\n",
       "        9.99997040e-01, -3.10176983e-06, -1.06782326e-03, -3.06544825e-06,\n",
       "       -1.14894332e-03, -3.01282853e-06,  9.99996950e-01,  9.99092699e-01,\n",
       "        9.99996980e-01, -3.03471461e-06, -3.03378329e-06, -2.98162922e-06,\n",
       "       -2.99001113e-06, -3.13902274e-06,  1.04727386e-02,  9.99996950e-01,\n",
       "        9.99997010e-01,  9.99996950e-01, -2.93040648e-06,  9.99997010e-01,\n",
       "       -2.99001113e-06, -2.45356932e-06,  9.99996946e-01,  9.99996954e-01,\n",
       "        9.99996973e-01,  9.99996924e-01, -3.07196751e-06, -1.70413591e-03,\n",
       "        9.99996980e-01,  9.99996965e-01, -2.96020880e-06, -2.69198790e-06,\n",
       "        1.00126424e+00, -3.02260742e-06, -2.96020880e-06, -3.03285196e-06,\n",
       "        9.99996906e-01, -2.96020880e-06,  9.99996906e-01,  2.06044968e-03,\n",
       "       -2.96020880e-06, -1.98861631e-03,  1.25318766e-05,  9.99996960e-01,\n",
       "        1.00049537e+00, -3.19862738e-06,  9.99435328e-01, -2.81119719e-06,\n",
       "       -2.96020880e-06, -3.01981345e-06, -2.99001113e-06, -2.75159255e-06,\n",
       "       -3.22842970e-06,  9.99996965e-01,  9.99052784e-01, -2.19754549e-03,\n",
       "        1.00214224e+00,  9.99996906e-01, -3.03843990e-06,  8.04499164e-03,\n",
       "       -3.07941809e-06,  9.06037731e-01,  9.99997070e-01,  1.00300242e+00,\n",
       "        8.65529757e-04,  8.26446339e-05, -3.04961577e-06,  1.14089018e-03,\n",
       "        9.99996956e-01, -3.06265429e-06, -3.05753201e-06, -7.97912944e-04,\n",
       "        8.16099471e-02,  1.00024901e+00,  9.98586699e-01,  8.89595598e-04,\n",
       "        9.99996831e-01, -3.03098932e-06,  9.99996954e-01,  9.99996972e-01,\n",
       "        9.99501138e-01,  9.99996995e-01,  9.99996898e-01,  9.99996990e-01,\n",
       "        6.73483592e-04, -2.78139487e-06,  6.50295522e-04, -7.89049594e-03,\n",
       "        4.54944093e-03,  9.99996921e-01, -3.02819535e-06,  9.99996921e-01,\n",
       "       -2.99001113e-06, -6.23426307e-03, -3.01562250e-06,  1.07132909e-02,\n",
       "        4.21701511e-02, -2.32869294e-04,  9.96593073e-01, -6.31614169e-03,\n",
       "       -2.99001113e-06,  1.11552281e-03,  2.77442625e-03, -3.15392390e-06,\n",
       "       -3.01981345e-06, -2.99001113e-06, -1.96053181e-04, -3.03704292e-06,\n",
       "        6.01522624e-04, -1.57610094e-03,  1.00308260e+00,  1.00618534e+00,\n",
       "        1.82583509e-03, -1.50709692e-03, -6.50693984e-02,  9.99996982e-01,\n",
       "        9.91419438e-01, -3.56761948e-02, -2.99001113e-06, -3.09431925e-06,\n",
       "       -3.04635614e-06,  6.35671895e-02,  2.66726082e-03,  1.70344161e-02,\n",
       "        9.71140250e-01,  9.95514775e-03, -3.22842970e-06, -3.06451693e-06,\n",
       "       -3.04961577e-06, -5.32083679e-04,  1.51968049e-03, -3.00211832e-06,\n",
       "        6.81323977e-03,  3.81125323e-03, -3.02214175e-06,  8.11719289e-03,\n",
       "       -8.82511493e-04,  9.98740354e-01,  9.99996950e-01,  1.08767208e-03,\n",
       "       -4.88315849e-03, -3.04961577e-06, -3.00258398e-06,  9.93349575e-01,\n",
       "        9.98709664e-01, -3.04961577e-06, -3.04961577e-06,  1.00474662e+00,\n",
       "       -3.07941809e-06, -3.13902274e-06, -3.05706635e-06, -3.07941809e-06,\n",
       "        9.99996966e-01, -3.03937122e-06, -3.10922042e-06, -3.02540138e-06,\n",
       "        1.58275431e-03,  8.71967990e-04, -3.05427238e-06, -3.02912667e-06,\n",
       "       -3.01608816e-06,  1.29563990e-02, -6.99525652e-03, -4.32271510e-03,\n",
       "       -3.00770625e-06,  1.01464863e+00, -3.03192064e-06, -3.04309651e-06,\n",
       "        9.99996979e-01, -3.05892900e-06, -3.04682180e-06,  9.78207644e-01,\n",
       "       -3.00863758e-06, -3.07010487e-06,  9.35818395e-03,  9.99996953e-01,\n",
       "       -9.65300482e-04, -2.09594145e-06,  9.99996993e-01, -3.02167609e-06,\n",
       "        9.99996935e-01,  1.00326271e+00, -3.08686867e-06,  9.99996917e-01,\n",
       "        9.99996935e-01,  4.41428041e-03, -2.87080184e-06, -2.93040648e-06,\n",
       "       -2.99001113e-06, -9.73543725e-02, -3.34763899e-06,  9.99996982e-01,\n",
       "        1.00101732e+00, -3.05613503e-06, -2.93040648e-06, -3.04961577e-06,\n",
       "       -2.96765938e-06, -2.99559906e-06,  9.97788740e-01,  1.42675642e-01,\n",
       "       -4.94149546e-02,  2.26211734e-03, -3.04961577e-06,  5.34527786e-02,\n",
       "       -3.13902274e-06,  8.60438566e-02, -3.16882506e-06, -1.04163175e-01,\n",
       "        7.72713684e-04,  7.12420326e-04, -4.01629275e-03, -1.18529378e-03,\n",
       "        9.99996891e-01, -3.11667100e-06, -8.64153462e-02, -1.14212930e-03,\n",
       "        1.52518407e-01,  1.97261199e-03, -1.39988417e-01, -2.57277861e-06,\n",
       "       -3.97348776e-06,  2.31670667e-02, -3.01701948e-06,  6.20314826e-01,\n",
       "       -3.13902274e-06,  1.54422026e-01,  1.00437873e+00,  1.47560611e-02,\n",
       "       -3.03471461e-06,  1.00228095e+00, -3.06637958e-06, -3.00491229e-06,\n",
       "       -3.04216519e-06, -3.05706635e-06,  9.99996712e-01, -5.92485489e-03,\n",
       "       -1.15703131e-01,  7.10026049e-02, -4.66758758e-03, -3.04821879e-06,\n",
       "       -2.93040648e-06,  4.55321745e-01,  4.47723037e-03,  5.11105635e-01,\n",
       "       -3.33786718e-01,  7.75429094e-03, -3.12784687e-06, -2.47787032e-02,\n",
       "        4.68036928e-01, -3.20980325e-06,  9.99996824e-01, -3.00677493e-06,\n",
       "       -9.55698872e-03,  9.22230678e-03, -6.37741759e-04,  2.61432957e-03,\n",
       "       -5.94414980e-02, -3.14274803e-06,  5.84154520e-02, -8.17235559e-06,\n",
       "       -3.15019861e-06,  5.82889980e-03,  1.99640030e-03,  1.50979231e-02,\n",
       "        7.93797723e-02, -1.53977703e-03,  4.28257748e-02, -1.58195184e-02,\n",
       "       -3.47414752e-03, -2.99001113e-06,  5.49816811e-02,  9.99996950e-01,\n",
       "       -2.96765938e-06, -6.39470150e-02,  9.98906278e-01, -3.14274803e-06,\n",
       "       -2.75403727e-04, -1.62500271e-01,  9.99996786e-01, -5.61638237e-02,\n",
       "       -3.04961577e-06, -2.99187377e-06, -3.01981345e-06,  7.35053248e-02,\n",
       "        9.25545115e-04,  1.77822588e-03,  9.99996783e-01,  9.99996986e-01,\n",
       "       -2.93040648e-06, -3.07941809e-06, -8.57319869e-03, -7.71722901e-02,\n",
       "       -6.70773233e-02,  8.59879889e-04, -3.13529745e-06, -3.20607796e-06,\n",
       "       -3.03750858e-06,  4.66877490e-01,  1.00139143e+00, -3.13902274e-06,\n",
       "       -3.02726403e-06, -2.91923061e-06, -3.27313319e-06, -3.09431925e-06,\n",
       "       -1.87151553e-03, -3.07941809e-06,  8.82884534e-03, -2.38442281e-03,\n",
       "       -4.99938615e-05,  6.88220426e-02,  5.88680830e-01, -3.03378329e-06,\n",
       "       -3.11325258e-03,  9.99996816e-01,  2.01159173e-01,  2.27532248e-01,\n",
       "       -2.90089846e-03,  9.99996974e-01, -3.10176983e-06, -2.94530764e-06,\n",
       "       -3.16882506e-06, -7.32406699e-02, -3.12412158e-06,  1.44989416e-03,\n",
       "        2.21533054e-02,  1.91356526e-02, -3.21352854e-06,  2.40910609e-01,\n",
       "       -2.93413177e-06, -4.96925693e-03, -3.05706635e-06, -8.20203219e-04,\n",
       "       -3.02493572e-06, -1.03311495e-01, -3.07196751e-06, -3.12412158e-06,\n",
       "       -3.08314338e-06, -3.03471461e-06, -3.14274803e-06,  6.27687387e-03,\n",
       "       -3.23960558e-06,  1.61447790e-02, -8.94919131e-03, -1.66181056e-03,\n",
       "       -3.03098932e-06, -3.09431925e-06, -3.94368544e-06, -3.00118700e-06,\n",
       "       -2.97883525e-06,  5.48453536e-04,  2.41781040e-02,  8.91171861e-04,\n",
       "       -8.55418975e-02, -7.28389416e-02,  1.60770956e-04, -3.46684828e-06,\n",
       "        6.46380894e-03, -3.20235267e-06, -3.08901584e-03, -1.81900198e-03,\n",
       "        5.38476155e-01,  6.58603024e-01, -3.26940790e-06,  2.10226048e-04,\n",
       "        2.41677661e-01, -3.00630927e-06, -3.19117680e-06, -3.20235267e-06,\n",
       "       -7.29426276e-04,  1.13601655e-01, -3.14274803e-06,  4.13337490e-03,\n",
       "       -3.43704596e-06, -2.62249405e-02, -2.99001113e-06,  6.50425907e-04,\n",
       "       -7.13401707e-03, -3.26195732e-06,  1.28981657e-04, -3.12412158e-06,\n",
       "        1.63539201e-01, -2.01106998e-02,  1.87956268e-01, -3.12039629e-06,\n",
       "       -3.25636938e-06, -3.03764781e-03, -3.63076106e-06,  9.99996779e-01,\n",
       "       -3.21725383e-06, -2.01818189e-02,  9.65159852e-04,  9.55109065e-03,\n",
       "       -2.96020880e-06,  1.02209332e-02,  9.51807853e-03, -3.16509977e-06,\n",
       "       -2.88849697e-06, -3.14274803e-06, -6.99747880e-02, -3.13902274e-06,\n",
       "        1.60550172e-02])"
      ]
     },
     "execution_count": 172,
     "metadata": {},
     "output_type": "execute_result"
    }
   ],
   "source": [
    "pred=lr.predict(x_poly)\n",
    "pred"
   ]
  },
  {
   "cell_type": "code",
   "execution_count": 173,
   "id": "8ce2968e",
   "metadata": {},
   "outputs": [
    {
     "data": {
      "text/plain": [
       "239    0\n",
       "113    0\n",
       "325    1\n",
       "66     0\n",
       "479    0\n",
       "      ..\n",
       "76     1\n",
       "132    1\n",
       "311    0\n",
       "464    0\n",
       "155    0\n",
       "Name: airconditioning, Length: 109, dtype: int32"
      ]
     },
     "execution_count": 173,
     "metadata": {},
     "output_type": "execute_result"
    }
   ],
   "source": [
    "#Actual Outcome\n",
    "y_test"
   ]
  },
  {
   "cell_type": "code",
   "execution_count": 178,
   "id": "ad7a6221",
   "metadata": {},
   "outputs": [
    {
     "data": {
      "text/plain": [
       "0.15987449830348244"
      ]
     },
     "execution_count": 178,
     "metadata": {},
     "output_type": "execute_result"
    }
   ],
   "source": [
    "from sklearn.metrics import mean_squared_error,mean_absolute_error\n",
    "mse=mean_squared_error(y_test,y_pred)\n",
    "mse"
   ]
  },
  {
   "cell_type": "code",
   "execution_count": 179,
   "id": "78de503e",
   "metadata": {},
   "outputs": [
    {
     "data": {
      "text/plain": [
       "0.39984309210424335"
      ]
     },
     "execution_count": 179,
     "metadata": {},
     "output_type": "execute_result"
    }
   ],
   "source": [
    "rmse=np.sqrt(mse)\n",
    "rmse"
   ]
  },
  {
   "cell_type": "markdown",
   "id": "875cad30",
   "metadata": {},
   "source": [
    "Random Forest Model"
   ]
  },
  {
   "cell_type": "code",
   "execution_count": 181,
   "id": "945eac70",
   "metadata": {},
   "outputs": [
    {
     "data": {
      "text/plain": [
       "RandomForestClassifier(criterion='entropy', n_estimators=10, random_state=0)"
      ]
     },
     "execution_count": 181,
     "metadata": {},
     "output_type": "execute_result"
    }
   ],
   "source": [
    "from sklearn.ensemble import RandomForestClassifier\n",
    "rf=RandomForestClassifier(n_estimators=10,criterion='entropy',random_state=0)\n",
    "#training the model\n",
    "rf.fit(x_train,y_train)"
   ]
  },
  {
   "cell_type": "code",
   "execution_count": 182,
   "id": "d122a18e",
   "metadata": {},
   "outputs": [],
   "source": [
    "#test the model\n",
    "pred=rf.predict(x_test)"
   ]
  },
  {
   "cell_type": "code",
   "execution_count": 183,
   "id": "9936ff35",
   "metadata": {},
   "outputs": [
    {
     "data": {
      "text/plain": [
       "array([0, 1, 0, 0, 0, 1, 0, 0, 0, 1, 1, 0, 0, 0, 0, 0, 0, 0, 0, 0, 0, 0,\n",
       "       1, 0, 0, 0, 0, 0, 0, 1, 0, 0, 0, 0, 0, 0, 1, 1, 0, 0, 1, 1, 1, 0,\n",
       "       0, 1, 0, 0, 0, 0, 0, 0, 0, 0, 0, 0, 1, 0, 0, 0, 1, 0, 0, 1, 0, 0,\n",
       "       0, 0, 0, 0, 0, 1, 0, 0, 0, 0, 0, 0, 0, 0, 0, 0, 0, 0, 0, 0, 0, 0,\n",
       "       0, 0, 0, 1, 0, 0, 0, 1, 0, 1, 0, 0, 0, 0, 0, 1, 1, 1, 0, 0, 1])"
      ]
     },
     "execution_count": 183,
     "metadata": {},
     "output_type": "execute_result"
    }
   ],
   "source": [
    "pred"
   ]
  },
  {
   "cell_type": "code",
   "execution_count": 184,
   "id": "353961c7",
   "metadata": {},
   "outputs": [
    {
     "data": {
      "text/plain": [
       "239    0\n",
       "113    0\n",
       "325    1\n",
       "66     0\n",
       "479    0\n",
       "      ..\n",
       "76     1\n",
       "132    1\n",
       "311    0\n",
       "464    0\n",
       "155    0\n",
       "Name: airconditioning, Length: 109, dtype: int32"
      ]
     },
     "execution_count": 184,
     "metadata": {},
     "output_type": "execute_result"
    }
   ],
   "source": [
    "y_test"
   ]
  },
  {
   "cell_type": "code",
   "execution_count": 185,
   "id": "7001c335",
   "metadata": {},
   "outputs": [
    {
     "data": {
      "text/plain": [
       "239    0\n",
       "113   -1\n",
       "325    1\n",
       "66     0\n",
       "479    0\n",
       "      ..\n",
       "76     0\n",
       "132    0\n",
       "311    0\n",
       "464    0\n",
       "155   -1\n",
       "Name: airconditioning, Length: 109, dtype: int32"
      ]
     },
     "execution_count": 185,
     "metadata": {},
     "output_type": "execute_result"
    }
   ],
   "source": [
    "E=y_test-pred\n",
    "E"
   ]
  },
  {
   "cell_type": "code",
   "execution_count": 186,
   "id": "93c92019",
   "metadata": {},
   "outputs": [
    {
     "data": {
      "text/plain": [
       "0.7798165137614679"
      ]
     },
     "execution_count": 186,
     "metadata": {},
     "output_type": "execute_result"
    }
   ],
   "source": [
    "from sklearn.metrics import accuracy_score\n",
    "accuracy_score(y_test,pred)"
   ]
  },
  {
   "cell_type": "code",
   "execution_count": 187,
   "id": "e7493a4d",
   "metadata": {},
   "outputs": [
    {
     "data": {
      "text/plain": [
       "-0.0818858560794049"
      ]
     },
     "execution_count": 187,
     "metadata": {},
     "output_type": "execute_result"
    }
   ],
   "source": [
    "from sklearn.metrics import r2_score,mean_squared_error,mean_absolute_error\n",
    "r2_score(y_test,pred)"
   ]
  },
  {
   "cell_type": "code",
   "execution_count": 188,
   "id": "189b6794",
   "metadata": {},
   "outputs": [
    {
     "data": {
      "text/plain": [
       "0.22018348623853212"
      ]
     },
     "execution_count": 188,
     "metadata": {},
     "output_type": "execute_result"
    }
   ],
   "source": [
    "mse=mean_squared_error(y_test,pred)\n",
    "mse"
   ]
  },
  {
   "cell_type": "code",
   "execution_count": 189,
   "id": "533dc832",
   "metadata": {},
   "outputs": [
    {
     "data": {
      "text/plain": [
       "0.22018348623853212"
      ]
     },
     "execution_count": 189,
     "metadata": {},
     "output_type": "execute_result"
    }
   ],
   "source": [
    "mean_absolute_error(y_test,pred)"
   ]
  },
  {
   "cell_type": "code",
   "execution_count": 190,
   "id": "8ae2e447",
   "metadata": {},
   "outputs": [
    {
     "data": {
      "text/plain": [
       "0.469237132203465"
      ]
     },
     "execution_count": 190,
     "metadata": {},
     "output_type": "execute_result"
    }
   ],
   "source": [
    "rmse=np.sqrt(mse)\n",
    "rmse"
   ]
  },
  {
   "cell_type": "markdown",
   "id": "b447c031",
   "metadata": {},
   "source": [
    "Naive Bayes Classifier Model"
   ]
  },
  {
   "cell_type": "code",
   "execution_count": 191,
   "id": "c10fcd83",
   "metadata": {},
   "outputs": [
    {
     "data": {
      "text/plain": [
       "GaussianNB()"
      ]
     },
     "execution_count": 191,
     "metadata": {},
     "output_type": "execute_result"
    }
   ],
   "source": [
    "#Initializing the Naive Bayes model\n",
    "from sklearn.naive_bayes import GaussianNB\n",
    "nb=GaussianNB()\n",
    "#Train the model\n",
    "nb.fit(x_train,y_train)"
   ]
  },
  {
   "cell_type": "code",
   "execution_count": 192,
   "id": "9fb2981a",
   "metadata": {},
   "outputs": [
    {
     "data": {
      "text/plain": [
       "array([1, 1, 1, 0, 1, 1, 1, 1, 1, 1, 1, 1, 1, 1, 1, 1, 1, 1, 1, 1, 1, 0,\n",
       "       1, 1, 1, 1, 1, 1, 1, 1, 1, 0, 1, 1, 0, 1, 1, 1, 1, 1, 1, 1, 1, 1,\n",
       "       1, 1, 1, 1, 1, 1, 1, 1, 1, 1, 1, 1, 1, 1, 1, 1, 1, 1, 1, 1, 1, 1,\n",
       "       1, 1, 1, 1, 1, 1, 1, 0, 1, 1, 1, 1, 1, 1, 1, 0, 1, 1, 1, 1, 0, 1,\n",
       "       1, 1, 1, 1, 1, 1, 1, 1, 1, 1, 1, 1, 1, 1, 1, 1, 1, 1, 1, 0, 1])"
      ]
     },
     "execution_count": 192,
     "metadata": {},
     "output_type": "execute_result"
    }
   ],
   "source": [
    "#test the model\n",
    "pred=nb.predict(x_test)\n",
    "pred"
   ]
  },
  {
   "cell_type": "code",
   "execution_count": 193,
   "id": "f909a9d0",
   "metadata": {},
   "outputs": [
    {
     "data": {
      "text/plain": [
       "239   -1\n",
       "113   -1\n",
       "325    0\n",
       "66     0\n",
       "479   -1\n",
       "      ..\n",
       "76     0\n",
       "132    0\n",
       "311   -1\n",
       "464    0\n",
       "155   -1\n",
       "Name: airconditioning, Length: 109, dtype: int32"
      ]
     },
     "execution_count": 193,
     "metadata": {},
     "output_type": "execute_result"
    }
   ],
   "source": [
    "E=y_test-pred\n",
    "E"
   ]
  },
  {
   "cell_type": "code",
   "execution_count": 194,
   "id": "452a1819",
   "metadata": {},
   "outputs": [
    {
     "data": {
      "text/plain": [
       "0.3394495412844037"
      ]
     },
     "execution_count": 194,
     "metadata": {},
     "output_type": "execute_result"
    }
   ],
   "source": [
    "from sklearn.metrics import accuracy_score\n",
    "accuracy_score(y_test,pred)"
   ]
  },
  {
   "cell_type": "code",
   "execution_count": 195,
   "id": "425e58fd",
   "metadata": {},
   "outputs": [
    {
     "data": {
      "text/plain": [
       "-2.2456575682382147"
      ]
     },
     "execution_count": 195,
     "metadata": {},
     "output_type": "execute_result"
    }
   ],
   "source": [
    "from sklearn.metrics import r2_score,mean_squared_error,mean_absolute_error\n",
    "r2_score(y_test,pred)"
   ]
  },
  {
   "cell_type": "code",
   "execution_count": 196,
   "id": "4845b1d6",
   "metadata": {},
   "outputs": [
    {
     "data": {
      "text/plain": [
       "0.6605504587155964"
      ]
     },
     "execution_count": 196,
     "metadata": {},
     "output_type": "execute_result"
    }
   ],
   "source": [
    "mse=mean_squared_error(y_test,pred)\n",
    "mse"
   ]
  },
  {
   "cell_type": "code",
   "execution_count": 197,
   "id": "deb65441",
   "metadata": {},
   "outputs": [
    {
     "data": {
      "text/plain": [
       "0.6605504587155964"
      ]
     },
     "execution_count": 197,
     "metadata": {},
     "output_type": "execute_result"
    }
   ],
   "source": [
    "mean_absolute_error(y_test,pred)"
   ]
  },
  {
   "cell_type": "code",
   "execution_count": 198,
   "id": "7bb44c81",
   "metadata": {},
   "outputs": [
    {
     "data": {
      "text/plain": [
       "0.8127425537743157"
      ]
     },
     "execution_count": 198,
     "metadata": {},
     "output_type": "execute_result"
    }
   ],
   "source": [
    "rmse=np.sqrt(mse)\n",
    "rmse"
   ]
  }
 ],
 "metadata": {
  "kernelspec": {
   "display_name": "Python 3 (ipykernel)",
   "language": "python",
   "name": "python3"
  },
  "language_info": {
   "codemirror_mode": {
    "name": "ipython",
    "version": 3
   },
   "file_extension": ".py",
   "mimetype": "text/x-python",
   "name": "python",
   "nbconvert_exporter": "python",
   "pygments_lexer": "ipython3",
   "version": "3.9.13"
  }
 },
 "nbformat": 4,
 "nbformat_minor": 5
}
